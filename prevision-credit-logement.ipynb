{
 "cells": [
  {
   "cell_type": "markdown",
   "id": "ad261732",
   "metadata": {
    "papermill": {
     "duration": 0.0243,
     "end_time": "2023-07-13T12:19:36.874391",
     "exception": false,
     "start_time": "2023-07-13T12:19:36.850091",
     "status": "completed"
    },
    "tags": []
   },
   "source": [
    "# **Prévisions d'un Crédit Logement**"
   ]
  },
  {
   "cell_type": "code",
   "execution_count": 1,
   "id": "877c97a5",
   "metadata": {
    "_cell_guid": "b1076dfc-b9ad-4769-8c92-a6c4dae69d19",
    "_uuid": "8f2839f25d086af736a60e9eeb907d3b93b6e0e5",
    "execution": {
     "iopub.execute_input": "2023-07-13T12:19:36.931966Z",
     "iopub.status.busy": "2023-07-13T12:19:36.931228Z",
     "iopub.status.idle": "2023-07-13T12:19:38.943975Z",
     "shell.execute_reply": "2023-07-13T12:19:38.942700Z"
    },
    "papermill": {
     "duration": 2.043642,
     "end_time": "2023-07-13T12:19:38.946552",
     "exception": false,
     "start_time": "2023-07-13T12:19:36.902910",
     "status": "completed"
    },
    "tags": []
   },
   "outputs": [
    {
     "name": "stderr",
     "output_type": "stream",
     "text": [
      "/opt/conda/lib/python3.10/site-packages/scipy/__init__.py:146: UserWarning: A NumPy version >=1.16.5 and <1.23.0 is required for this version of SciPy (detected version 1.23.5\n",
      "  warnings.warn(f\"A NumPy version >={np_minversion} and <{np_maxversion}\"\n"
     ]
    },
    {
     "name": "stdout",
     "output_type": "stream",
     "text": [
      "/kaggle/input/home-loan/train.csv\n",
      "/kaggle/input/home-loan/test.csv\n"
     ]
    }
   ],
   "source": [
    "# This Python 3 environment comes with many helpful analytics libraries installed\n",
    "# It is defined by the kaggle/python Docker image: https://github.com/kaggle/docker-python\n",
    "# For example, here's several helpful packages to load\n",
    "\n",
    "import numpy as np # linear algebra\n",
    "import pandas as pd # data processing, CSV file I/O (e.g. pd.read_csv)\n",
    "\n",
    "import matplotlib.pyplot as plt\n",
    "import seaborn as sns\n",
    "\n",
    "from sklearn.linear_model import LogisticRegression\n",
    "from sklearn.model_selection import train_test_split\n",
    "from sklearn.metrics import accuracy_score\n",
    "\n",
    "import pickle\n",
    "\n",
    "# Input data files are available in the read-only \"../input/\" directory\n",
    "# For example, running this (by clicking run or pressing Shift+Enter) will list all files under the input directory\n",
    "\n",
    "import os\n",
    "for dirname, _, filenames in os.walk('/kaggle/input'):\n",
    "    for filename in filenames:\n",
    "        print(os.path.join(dirname, filename))\n",
    "\n",
    "# You can write up to 20GB to the current directory (/kaggle/working/) that gets preserved as output when you create a version using \"Save & Run All\" \n",
    "# You can also write temporary files to /kaggle/temp/, but they won't be saved outside of the current session"
   ]
  },
  {
   "cell_type": "markdown",
   "id": "fff363bd",
   "metadata": {
    "papermill": {
     "duration": 0.022312,
     "end_time": "2023-07-13T12:19:38.992072",
     "exception": false,
     "start_time": "2023-07-13T12:19:38.969760",
     "status": "completed"
    },
    "tags": []
   },
   "source": [
    "# **Import des données**"
   ]
  },
  {
   "cell_type": "code",
   "execution_count": 2,
   "id": "9b499ee5",
   "metadata": {
    "execution": {
     "iopub.execute_input": "2023-07-13T12:19:39.041496Z",
     "iopub.status.busy": "2023-07-13T12:19:39.040412Z",
     "iopub.status.idle": "2023-07-13T12:19:39.066925Z",
     "shell.execute_reply": "2023-07-13T12:19:39.066056Z"
    },
    "papermill": {
     "duration": 0.053626,
     "end_time": "2023-07-13T12:19:39.069783",
     "exception": false,
     "start_time": "2023-07-13T12:19:39.016157",
     "status": "completed"
    },
    "tags": []
   },
   "outputs": [],
   "source": [
    "# Import des données d'entrainement\n",
    "\n",
    "df_credit=pd.read_csv('/kaggle/input/home-loan/train.csv')\n"
   ]
  },
  {
   "cell_type": "code",
   "execution_count": 3,
   "id": "f4ec4565",
   "metadata": {
    "execution": {
     "iopub.execute_input": "2023-07-13T12:19:39.118670Z",
     "iopub.status.busy": "2023-07-13T12:19:39.118225Z",
     "iopub.status.idle": "2023-07-13T12:19:39.161096Z",
     "shell.execute_reply": "2023-07-13T12:19:39.159972Z"
    },
    "papermill": {
     "duration": 0.070201,
     "end_time": "2023-07-13T12:19:39.163663",
     "exception": false,
     "start_time": "2023-07-13T12:19:39.093462",
     "status": "completed"
    },
    "tags": []
   },
   "outputs": [
    {
     "data": {
      "text/html": [
       "<div>\n",
       "<style scoped>\n",
       "    .dataframe tbody tr th:only-of-type {\n",
       "        vertical-align: middle;\n",
       "    }\n",
       "\n",
       "    .dataframe tbody tr th {\n",
       "        vertical-align: top;\n",
       "    }\n",
       "\n",
       "    .dataframe thead th {\n",
       "        text-align: right;\n",
       "    }\n",
       "</style>\n",
       "<table border=\"1\" class=\"dataframe\">\n",
       "  <thead>\n",
       "    <tr style=\"text-align: right;\">\n",
       "      <th></th>\n",
       "      <th>Loan_ID</th>\n",
       "      <th>Gender</th>\n",
       "      <th>Married</th>\n",
       "      <th>Dependents</th>\n",
       "      <th>Education</th>\n",
       "      <th>Self_Employed</th>\n",
       "      <th>ApplicantIncome</th>\n",
       "      <th>CoapplicantIncome</th>\n",
       "      <th>LoanAmount</th>\n",
       "      <th>Loan_Amount_Term</th>\n",
       "      <th>Credit_History</th>\n",
       "      <th>Property_Area</th>\n",
       "      <th>Loan_Status</th>\n",
       "    </tr>\n",
       "  </thead>\n",
       "  <tbody>\n",
       "    <tr>\n",
       "      <th>0</th>\n",
       "      <td>LP001002</td>\n",
       "      <td>Male</td>\n",
       "      <td>No</td>\n",
       "      <td>0</td>\n",
       "      <td>Graduate</td>\n",
       "      <td>No</td>\n",
       "      <td>5849</td>\n",
       "      <td>0.0</td>\n",
       "      <td>NaN</td>\n",
       "      <td>360.0</td>\n",
       "      <td>1.0</td>\n",
       "      <td>Urban</td>\n",
       "      <td>Y</td>\n",
       "    </tr>\n",
       "    <tr>\n",
       "      <th>1</th>\n",
       "      <td>LP001003</td>\n",
       "      <td>Male</td>\n",
       "      <td>Yes</td>\n",
       "      <td>1</td>\n",
       "      <td>Graduate</td>\n",
       "      <td>No</td>\n",
       "      <td>4583</td>\n",
       "      <td>1508.0</td>\n",
       "      <td>128.0</td>\n",
       "      <td>360.0</td>\n",
       "      <td>1.0</td>\n",
       "      <td>Rural</td>\n",
       "      <td>N</td>\n",
       "    </tr>\n",
       "    <tr>\n",
       "      <th>2</th>\n",
       "      <td>LP001005</td>\n",
       "      <td>Male</td>\n",
       "      <td>Yes</td>\n",
       "      <td>0</td>\n",
       "      <td>Graduate</td>\n",
       "      <td>Yes</td>\n",
       "      <td>3000</td>\n",
       "      <td>0.0</td>\n",
       "      <td>66.0</td>\n",
       "      <td>360.0</td>\n",
       "      <td>1.0</td>\n",
       "      <td>Urban</td>\n",
       "      <td>Y</td>\n",
       "    </tr>\n",
       "    <tr>\n",
       "      <th>3</th>\n",
       "      <td>LP001006</td>\n",
       "      <td>Male</td>\n",
       "      <td>Yes</td>\n",
       "      <td>0</td>\n",
       "      <td>Not Graduate</td>\n",
       "      <td>No</td>\n",
       "      <td>2583</td>\n",
       "      <td>2358.0</td>\n",
       "      <td>120.0</td>\n",
       "      <td>360.0</td>\n",
       "      <td>1.0</td>\n",
       "      <td>Urban</td>\n",
       "      <td>Y</td>\n",
       "    </tr>\n",
       "    <tr>\n",
       "      <th>4</th>\n",
       "      <td>LP001008</td>\n",
       "      <td>Male</td>\n",
       "      <td>No</td>\n",
       "      <td>0</td>\n",
       "      <td>Graduate</td>\n",
       "      <td>No</td>\n",
       "      <td>6000</td>\n",
       "      <td>0.0</td>\n",
       "      <td>141.0</td>\n",
       "      <td>360.0</td>\n",
       "      <td>1.0</td>\n",
       "      <td>Urban</td>\n",
       "      <td>Y</td>\n",
       "    </tr>\n",
       "    <tr>\n",
       "      <th>...</th>\n",
       "      <td>...</td>\n",
       "      <td>...</td>\n",
       "      <td>...</td>\n",
       "      <td>...</td>\n",
       "      <td>...</td>\n",
       "      <td>...</td>\n",
       "      <td>...</td>\n",
       "      <td>...</td>\n",
       "      <td>...</td>\n",
       "      <td>...</td>\n",
       "      <td>...</td>\n",
       "      <td>...</td>\n",
       "      <td>...</td>\n",
       "    </tr>\n",
       "    <tr>\n",
       "      <th>609</th>\n",
       "      <td>LP002978</td>\n",
       "      <td>Female</td>\n",
       "      <td>No</td>\n",
       "      <td>0</td>\n",
       "      <td>Graduate</td>\n",
       "      <td>No</td>\n",
       "      <td>2900</td>\n",
       "      <td>0.0</td>\n",
       "      <td>71.0</td>\n",
       "      <td>360.0</td>\n",
       "      <td>1.0</td>\n",
       "      <td>Rural</td>\n",
       "      <td>Y</td>\n",
       "    </tr>\n",
       "    <tr>\n",
       "      <th>610</th>\n",
       "      <td>LP002979</td>\n",
       "      <td>Male</td>\n",
       "      <td>Yes</td>\n",
       "      <td>3+</td>\n",
       "      <td>Graduate</td>\n",
       "      <td>No</td>\n",
       "      <td>4106</td>\n",
       "      <td>0.0</td>\n",
       "      <td>40.0</td>\n",
       "      <td>180.0</td>\n",
       "      <td>1.0</td>\n",
       "      <td>Rural</td>\n",
       "      <td>Y</td>\n",
       "    </tr>\n",
       "    <tr>\n",
       "      <th>611</th>\n",
       "      <td>LP002983</td>\n",
       "      <td>Male</td>\n",
       "      <td>Yes</td>\n",
       "      <td>1</td>\n",
       "      <td>Graduate</td>\n",
       "      <td>No</td>\n",
       "      <td>8072</td>\n",
       "      <td>240.0</td>\n",
       "      <td>253.0</td>\n",
       "      <td>360.0</td>\n",
       "      <td>1.0</td>\n",
       "      <td>Urban</td>\n",
       "      <td>Y</td>\n",
       "    </tr>\n",
       "    <tr>\n",
       "      <th>612</th>\n",
       "      <td>LP002984</td>\n",
       "      <td>Male</td>\n",
       "      <td>Yes</td>\n",
       "      <td>2</td>\n",
       "      <td>Graduate</td>\n",
       "      <td>No</td>\n",
       "      <td>7583</td>\n",
       "      <td>0.0</td>\n",
       "      <td>187.0</td>\n",
       "      <td>360.0</td>\n",
       "      <td>1.0</td>\n",
       "      <td>Urban</td>\n",
       "      <td>Y</td>\n",
       "    </tr>\n",
       "    <tr>\n",
       "      <th>613</th>\n",
       "      <td>LP002990</td>\n",
       "      <td>Female</td>\n",
       "      <td>No</td>\n",
       "      <td>0</td>\n",
       "      <td>Graduate</td>\n",
       "      <td>Yes</td>\n",
       "      <td>4583</td>\n",
       "      <td>0.0</td>\n",
       "      <td>133.0</td>\n",
       "      <td>360.0</td>\n",
       "      <td>0.0</td>\n",
       "      <td>Semiurban</td>\n",
       "      <td>N</td>\n",
       "    </tr>\n",
       "  </tbody>\n",
       "</table>\n",
       "<p>614 rows × 13 columns</p>\n",
       "</div>"
      ],
      "text/plain": [
       "      Loan_ID  Gender Married Dependents     Education Self_Employed  \\\n",
       "0    LP001002    Male      No          0      Graduate            No   \n",
       "1    LP001003    Male     Yes          1      Graduate            No   \n",
       "2    LP001005    Male     Yes          0      Graduate           Yes   \n",
       "3    LP001006    Male     Yes          0  Not Graduate            No   \n",
       "4    LP001008    Male      No          0      Graduate            No   \n",
       "..        ...     ...     ...        ...           ...           ...   \n",
       "609  LP002978  Female      No          0      Graduate            No   \n",
       "610  LP002979    Male     Yes         3+      Graduate            No   \n",
       "611  LP002983    Male     Yes          1      Graduate            No   \n",
       "612  LP002984    Male     Yes          2      Graduate            No   \n",
       "613  LP002990  Female      No          0      Graduate           Yes   \n",
       "\n",
       "     ApplicantIncome  CoapplicantIncome  LoanAmount  Loan_Amount_Term  \\\n",
       "0               5849                0.0         NaN             360.0   \n",
       "1               4583             1508.0       128.0             360.0   \n",
       "2               3000                0.0        66.0             360.0   \n",
       "3               2583             2358.0       120.0             360.0   \n",
       "4               6000                0.0       141.0             360.0   \n",
       "..               ...                ...         ...               ...   \n",
       "609             2900                0.0        71.0             360.0   \n",
       "610             4106                0.0        40.0             180.0   \n",
       "611             8072              240.0       253.0             360.0   \n",
       "612             7583                0.0       187.0             360.0   \n",
       "613             4583                0.0       133.0             360.0   \n",
       "\n",
       "     Credit_History Property_Area Loan_Status  \n",
       "0               1.0         Urban           Y  \n",
       "1               1.0         Rural           N  \n",
       "2               1.0         Urban           Y  \n",
       "3               1.0         Urban           Y  \n",
       "4               1.0         Urban           Y  \n",
       "..              ...           ...         ...  \n",
       "609             1.0         Rural           Y  \n",
       "610             1.0         Rural           Y  \n",
       "611             1.0         Urban           Y  \n",
       "612             1.0         Urban           Y  \n",
       "613             0.0     Semiurban           N  \n",
       "\n",
       "[614 rows x 13 columns]"
      ]
     },
     "execution_count": 3,
     "metadata": {},
     "output_type": "execute_result"
    }
   ],
   "source": [
    "# Visualiser le Dataframe\n",
    "\n",
    "df_credit"
   ]
  },
  {
   "cell_type": "code",
   "execution_count": 4,
   "id": "011f6dd1",
   "metadata": {
    "execution": {
     "iopub.execute_input": "2023-07-13T12:19:39.212543Z",
     "iopub.status.busy": "2023-07-13T12:19:39.211933Z",
     "iopub.status.idle": "2023-07-13T12:19:39.216777Z",
     "shell.execute_reply": "2023-07-13T12:19:39.216016Z"
    },
    "papermill": {
     "duration": 0.03212,
     "end_time": "2023-07-13T12:19:39.219088",
     "exception": false,
     "start_time": "2023-07-13T12:19:39.186968",
     "status": "completed"
    },
    "tags": []
   },
   "outputs": [],
   "source": [
    "# Faire une copie de travail du Dataframe\n",
    "\n",
    "df=df_credit.copy()"
   ]
  },
  {
   "cell_type": "code",
   "execution_count": 5,
   "id": "8fac08ed",
   "metadata": {
    "execution": {
     "iopub.execute_input": "2023-07-13T12:19:39.268950Z",
     "iopub.status.busy": "2023-07-13T12:19:39.267230Z",
     "iopub.status.idle": "2023-07-13T12:19:39.301121Z",
     "shell.execute_reply": "2023-07-13T12:19:39.299772Z"
    },
    "papermill": {
     "duration": 0.062052,
     "end_time": "2023-07-13T12:19:39.304177",
     "exception": false,
     "start_time": "2023-07-13T12:19:39.242125",
     "status": "completed"
    },
    "tags": []
   },
   "outputs": [
    {
     "data": {
      "text/html": [
       "<div>\n",
       "<style scoped>\n",
       "    .dataframe tbody tr th:only-of-type {\n",
       "        vertical-align: middle;\n",
       "    }\n",
       "\n",
       "    .dataframe tbody tr th {\n",
       "        vertical-align: top;\n",
       "    }\n",
       "\n",
       "    .dataframe thead th {\n",
       "        text-align: right;\n",
       "    }\n",
       "</style>\n",
       "<table border=\"1\" class=\"dataframe\">\n",
       "  <thead>\n",
       "    <tr style=\"text-align: right;\">\n",
       "      <th></th>\n",
       "      <th>Loan_ID</th>\n",
       "      <th>Gender</th>\n",
       "      <th>Married</th>\n",
       "      <th>Dependents</th>\n",
       "      <th>Education</th>\n",
       "      <th>Self_Employed</th>\n",
       "      <th>ApplicantIncome</th>\n",
       "      <th>CoapplicantIncome</th>\n",
       "      <th>LoanAmount</th>\n",
       "      <th>Loan_Amount_Term</th>\n",
       "      <th>Credit_History</th>\n",
       "      <th>Property_Area</th>\n",
       "      <th>Loan_Status</th>\n",
       "    </tr>\n",
       "  </thead>\n",
       "  <tbody>\n",
       "    <tr>\n",
       "      <th>0</th>\n",
       "      <td>LP001002</td>\n",
       "      <td>Male</td>\n",
       "      <td>No</td>\n",
       "      <td>0</td>\n",
       "      <td>Graduate</td>\n",
       "      <td>No</td>\n",
       "      <td>5849</td>\n",
       "      <td>0.0</td>\n",
       "      <td>NaN</td>\n",
       "      <td>360.0</td>\n",
       "      <td>1.0</td>\n",
       "      <td>Urban</td>\n",
       "      <td>Y</td>\n",
       "    </tr>\n",
       "    <tr>\n",
       "      <th>1</th>\n",
       "      <td>LP001003</td>\n",
       "      <td>Male</td>\n",
       "      <td>Yes</td>\n",
       "      <td>1</td>\n",
       "      <td>Graduate</td>\n",
       "      <td>No</td>\n",
       "      <td>4583</td>\n",
       "      <td>1508.0</td>\n",
       "      <td>128.0</td>\n",
       "      <td>360.0</td>\n",
       "      <td>1.0</td>\n",
       "      <td>Rural</td>\n",
       "      <td>N</td>\n",
       "    </tr>\n",
       "    <tr>\n",
       "      <th>2</th>\n",
       "      <td>LP001005</td>\n",
       "      <td>Male</td>\n",
       "      <td>Yes</td>\n",
       "      <td>0</td>\n",
       "      <td>Graduate</td>\n",
       "      <td>Yes</td>\n",
       "      <td>3000</td>\n",
       "      <td>0.0</td>\n",
       "      <td>66.0</td>\n",
       "      <td>360.0</td>\n",
       "      <td>1.0</td>\n",
       "      <td>Urban</td>\n",
       "      <td>Y</td>\n",
       "    </tr>\n",
       "    <tr>\n",
       "      <th>3</th>\n",
       "      <td>LP001006</td>\n",
       "      <td>Male</td>\n",
       "      <td>Yes</td>\n",
       "      <td>0</td>\n",
       "      <td>Not Graduate</td>\n",
       "      <td>No</td>\n",
       "      <td>2583</td>\n",
       "      <td>2358.0</td>\n",
       "      <td>120.0</td>\n",
       "      <td>360.0</td>\n",
       "      <td>1.0</td>\n",
       "      <td>Urban</td>\n",
       "      <td>Y</td>\n",
       "    </tr>\n",
       "    <tr>\n",
       "      <th>4</th>\n",
       "      <td>LP001008</td>\n",
       "      <td>Male</td>\n",
       "      <td>No</td>\n",
       "      <td>0</td>\n",
       "      <td>Graduate</td>\n",
       "      <td>No</td>\n",
       "      <td>6000</td>\n",
       "      <td>0.0</td>\n",
       "      <td>141.0</td>\n",
       "      <td>360.0</td>\n",
       "      <td>1.0</td>\n",
       "      <td>Urban</td>\n",
       "      <td>Y</td>\n",
       "    </tr>\n",
       "    <tr>\n",
       "      <th>...</th>\n",
       "      <td>...</td>\n",
       "      <td>...</td>\n",
       "      <td>...</td>\n",
       "      <td>...</td>\n",
       "      <td>...</td>\n",
       "      <td>...</td>\n",
       "      <td>...</td>\n",
       "      <td>...</td>\n",
       "      <td>...</td>\n",
       "      <td>...</td>\n",
       "      <td>...</td>\n",
       "      <td>...</td>\n",
       "      <td>...</td>\n",
       "    </tr>\n",
       "    <tr>\n",
       "      <th>609</th>\n",
       "      <td>LP002978</td>\n",
       "      <td>Female</td>\n",
       "      <td>No</td>\n",
       "      <td>0</td>\n",
       "      <td>Graduate</td>\n",
       "      <td>No</td>\n",
       "      <td>2900</td>\n",
       "      <td>0.0</td>\n",
       "      <td>71.0</td>\n",
       "      <td>360.0</td>\n",
       "      <td>1.0</td>\n",
       "      <td>Rural</td>\n",
       "      <td>Y</td>\n",
       "    </tr>\n",
       "    <tr>\n",
       "      <th>610</th>\n",
       "      <td>LP002979</td>\n",
       "      <td>Male</td>\n",
       "      <td>Yes</td>\n",
       "      <td>3+</td>\n",
       "      <td>Graduate</td>\n",
       "      <td>No</td>\n",
       "      <td>4106</td>\n",
       "      <td>0.0</td>\n",
       "      <td>40.0</td>\n",
       "      <td>180.0</td>\n",
       "      <td>1.0</td>\n",
       "      <td>Rural</td>\n",
       "      <td>Y</td>\n",
       "    </tr>\n",
       "    <tr>\n",
       "      <th>611</th>\n",
       "      <td>LP002983</td>\n",
       "      <td>Male</td>\n",
       "      <td>Yes</td>\n",
       "      <td>1</td>\n",
       "      <td>Graduate</td>\n",
       "      <td>No</td>\n",
       "      <td>8072</td>\n",
       "      <td>240.0</td>\n",
       "      <td>253.0</td>\n",
       "      <td>360.0</td>\n",
       "      <td>1.0</td>\n",
       "      <td>Urban</td>\n",
       "      <td>Y</td>\n",
       "    </tr>\n",
       "    <tr>\n",
       "      <th>612</th>\n",
       "      <td>LP002984</td>\n",
       "      <td>Male</td>\n",
       "      <td>Yes</td>\n",
       "      <td>2</td>\n",
       "      <td>Graduate</td>\n",
       "      <td>No</td>\n",
       "      <td>7583</td>\n",
       "      <td>0.0</td>\n",
       "      <td>187.0</td>\n",
       "      <td>360.0</td>\n",
       "      <td>1.0</td>\n",
       "      <td>Urban</td>\n",
       "      <td>Y</td>\n",
       "    </tr>\n",
       "    <tr>\n",
       "      <th>613</th>\n",
       "      <td>LP002990</td>\n",
       "      <td>Female</td>\n",
       "      <td>No</td>\n",
       "      <td>0</td>\n",
       "      <td>Graduate</td>\n",
       "      <td>Yes</td>\n",
       "      <td>4583</td>\n",
       "      <td>0.0</td>\n",
       "      <td>133.0</td>\n",
       "      <td>360.0</td>\n",
       "      <td>0.0</td>\n",
       "      <td>Semiurban</td>\n",
       "      <td>N</td>\n",
       "    </tr>\n",
       "  </tbody>\n",
       "</table>\n",
       "<p>614 rows × 13 columns</p>\n",
       "</div>"
      ],
      "text/plain": [
       "      Loan_ID  Gender Married Dependents     Education Self_Employed  \\\n",
       "0    LP001002    Male      No          0      Graduate            No   \n",
       "1    LP001003    Male     Yes          1      Graduate            No   \n",
       "2    LP001005    Male     Yes          0      Graduate           Yes   \n",
       "3    LP001006    Male     Yes          0  Not Graduate            No   \n",
       "4    LP001008    Male      No          0      Graduate            No   \n",
       "..        ...     ...     ...        ...           ...           ...   \n",
       "609  LP002978  Female      No          0      Graduate            No   \n",
       "610  LP002979    Male     Yes         3+      Graduate            No   \n",
       "611  LP002983    Male     Yes          1      Graduate            No   \n",
       "612  LP002984    Male     Yes          2      Graduate            No   \n",
       "613  LP002990  Female      No          0      Graduate           Yes   \n",
       "\n",
       "     ApplicantIncome  CoapplicantIncome  LoanAmount  Loan_Amount_Term  \\\n",
       "0               5849                0.0         NaN             360.0   \n",
       "1               4583             1508.0       128.0             360.0   \n",
       "2               3000                0.0        66.0             360.0   \n",
       "3               2583             2358.0       120.0             360.0   \n",
       "4               6000                0.0       141.0             360.0   \n",
       "..               ...                ...         ...               ...   \n",
       "609             2900                0.0        71.0             360.0   \n",
       "610             4106                0.0        40.0             180.0   \n",
       "611             8072              240.0       253.0             360.0   \n",
       "612             7583                0.0       187.0             360.0   \n",
       "613             4583                0.0       133.0             360.0   \n",
       "\n",
       "     Credit_History Property_Area Loan_Status  \n",
       "0               1.0         Urban           Y  \n",
       "1               1.0         Rural           N  \n",
       "2               1.0         Urban           Y  \n",
       "3               1.0         Urban           Y  \n",
       "4               1.0         Urban           Y  \n",
       "..              ...           ...         ...  \n",
       "609             1.0         Rural           Y  \n",
       "610             1.0         Rural           Y  \n",
       "611             1.0         Urban           Y  \n",
       "612             1.0         Urban           Y  \n",
       "613             0.0     Semiurban           N  \n",
       "\n",
       "[614 rows x 13 columns]"
      ]
     },
     "execution_count": 5,
     "metadata": {},
     "output_type": "execute_result"
    }
   ],
   "source": [
    "# Visualiser le Dataframe\n",
    "\n",
    "df"
   ]
  },
  {
   "cell_type": "code",
   "execution_count": 6,
   "id": "3f3b13dd",
   "metadata": {
    "execution": {
     "iopub.execute_input": "2023-07-13T12:19:39.354505Z",
     "iopub.status.busy": "2023-07-13T12:19:39.353973Z",
     "iopub.status.idle": "2023-07-13T12:19:39.383626Z",
     "shell.execute_reply": "2023-07-13T12:19:39.382087Z"
    },
    "papermill": {
     "duration": 0.058172,
     "end_time": "2023-07-13T12:19:39.386491",
     "exception": false,
     "start_time": "2023-07-13T12:19:39.328319",
     "status": "completed"
    },
    "tags": []
   },
   "outputs": [
    {
     "name": "stdout",
     "output_type": "stream",
     "text": [
      "<class 'pandas.core.frame.DataFrame'>\n",
      "RangeIndex: 614 entries, 0 to 613\n",
      "Data columns (total 13 columns):\n",
      " #   Column             Non-Null Count  Dtype  \n",
      "---  ------             --------------  -----  \n",
      " 0   Loan_ID            614 non-null    object \n",
      " 1   Gender             601 non-null    object \n",
      " 2   Married            611 non-null    object \n",
      " 3   Dependents         599 non-null    object \n",
      " 4   Education          614 non-null    object \n",
      " 5   Self_Employed      582 non-null    object \n",
      " 6   ApplicantIncome    614 non-null    int64  \n",
      " 7   CoapplicantIncome  614 non-null    float64\n",
      " 8   LoanAmount         592 non-null    float64\n",
      " 9   Loan_Amount_Term   600 non-null    float64\n",
      " 10  Credit_History     564 non-null    float64\n",
      " 11  Property_Area      614 non-null    object \n",
      " 12  Loan_Status        614 non-null    object \n",
      "dtypes: float64(4), int64(1), object(8)\n",
      "memory usage: 62.5+ KB\n"
     ]
    }
   ],
   "source": [
    "# Examen des colonnes du Dataframe\n",
    "\n",
    "df.info()"
   ]
  },
  {
   "cell_type": "code",
   "execution_count": 7,
   "id": "993c14ce",
   "metadata": {
    "execution": {
     "iopub.execute_input": "2023-07-13T12:19:39.437206Z",
     "iopub.status.busy": "2023-07-13T12:19:39.436807Z",
     "iopub.status.idle": "2023-07-13T12:19:39.444275Z",
     "shell.execute_reply": "2023-07-13T12:19:39.442666Z"
    },
    "papermill": {
     "duration": 0.035669,
     "end_time": "2023-07-13T12:19:39.446990",
     "exception": false,
     "start_time": "2023-07-13T12:19:39.411321",
     "status": "completed"
    },
    "tags": []
   },
   "outputs": [
    {
     "data": {
      "text/plain": [
       "(614, 13)"
      ]
     },
     "execution_count": 7,
     "metadata": {},
     "output_type": "execute_result"
    }
   ],
   "source": [
    "# Dimensions du Dataframe\n",
    "\n",
    "df.shape"
   ]
  },
  {
   "cell_type": "code",
   "execution_count": 8,
   "id": "4d246d20",
   "metadata": {
    "execution": {
     "iopub.execute_input": "2023-07-13T12:19:39.498731Z",
     "iopub.status.busy": "2023-07-13T12:19:39.497876Z",
     "iopub.status.idle": "2023-07-13T12:19:39.512680Z",
     "shell.execute_reply": "2023-07-13T12:19:39.511235Z"
    },
    "papermill": {
     "duration": 0.044062,
     "end_time": "2023-07-13T12:19:39.515729",
     "exception": false,
     "start_time": "2023-07-13T12:19:39.471667",
     "status": "completed"
    },
    "tags": []
   },
   "outputs": [
    {
     "data": {
      "text/plain": [
       "Loan_ID               0\n",
       "Gender               13\n",
       "Married               3\n",
       "Dependents           15\n",
       "Education             0\n",
       "Self_Employed        32\n",
       "ApplicantIncome       0\n",
       "CoapplicantIncome     0\n",
       "LoanAmount           22\n",
       "Loan_Amount_Term     14\n",
       "Credit_History       50\n",
       "Property_Area         0\n",
       "Loan_Status           0\n",
       "dtype: int64"
      ]
     },
     "execution_count": 8,
     "metadata": {},
     "output_type": "execute_result"
    }
   ],
   "source": [
    "# Combien y a-t-il des valeurs manquantes ?\n",
    "\n",
    "df.isnull().sum()"
   ]
  },
  {
   "cell_type": "markdown",
   "id": "cf22688f",
   "metadata": {
    "papermill": {
     "duration": 0.023932,
     "end_time": "2023-07-13T12:19:39.564911",
     "exception": false,
     "start_time": "2023-07-13T12:19:39.540979",
     "status": "completed"
    },
    "tags": []
   },
   "source": [
    "## Pour supprimer les valeurs manquantes :\n",
    "## - pour les variables catégoriellles, on les remplace par la valeur modale\n",
    "## - pour les variables numériques, on va les remplacer par la médiane"
   ]
  },
  {
   "cell_type": "code",
   "execution_count": 9,
   "id": "28347d8a",
   "metadata": {
    "execution": {
     "iopub.execute_input": "2023-07-13T12:19:39.616067Z",
     "iopub.status.busy": "2023-07-13T12:19:39.615539Z",
     "iopub.status.idle": "2023-07-13T12:19:39.626422Z",
     "shell.execute_reply": "2023-07-13T12:19:39.624958Z"
    },
    "papermill": {
     "duration": 0.040019,
     "end_time": "2023-07-13T12:19:39.629133",
     "exception": false,
     "start_time": "2023-07-13T12:19:39.589114",
     "status": "completed"
    },
    "tags": []
   },
   "outputs": [
    {
     "data": {
      "text/plain": [
       "Index(['Loan_ID', 'Gender', 'Married', 'Dependents', 'Education',\n",
       "       'Self_Employed', 'ApplicantIncome', 'CoapplicantIncome', 'LoanAmount',\n",
       "       'Loan_Amount_Term', 'Credit_History', 'Property_Area', 'Loan_Status'],\n",
       "      dtype='object')"
      ]
     },
     "execution_count": 9,
     "metadata": {},
     "output_type": "execute_result"
    }
   ],
   "source": [
    "df.columns"
   ]
  },
  {
   "cell_type": "code",
   "execution_count": 10,
   "id": "e9503ab0",
   "metadata": {
    "execution": {
     "iopub.execute_input": "2023-07-13T12:19:39.680337Z",
     "iopub.status.busy": "2023-07-13T12:19:39.679512Z",
     "iopub.status.idle": "2023-07-13T12:19:39.687726Z",
     "shell.execute_reply": "2023-07-13T12:19:39.686397Z"
    },
    "papermill": {
     "duration": 0.036677,
     "end_time": "2023-07-13T12:19:39.690312",
     "exception": false,
     "start_time": "2023-07-13T12:19:39.653635",
     "status": "completed"
    },
    "tags": []
   },
   "outputs": [
    {
     "name": "stdout",
     "output_type": "stream",
     "text": [
      "Les variables catégorielles sont :  ['Gender', 'Married', 'Dependents', 'Education', 'Self_Employed', 'Credit_History', 'Property_Area', 'Loan_Status']\n",
      "Les variables numériques sont :  ['ApplicantIncome', 'CoapplicantIncome', 'LoanAmount', 'Loan_Amount_Term']\n"
     ]
    }
   ],
   "source": [
    "# Faire 3 listes pour les types de variables, nous en aurons besoin.\n",
    "\n",
    "var_cat=['Gender', 'Married', 'Dependents', 'Education',\n",
    "       'Self_Employed', 'Credit_History', 'Property_Area', 'Loan_Status']\n",
    "var_cat_source=['Gender', 'Married', 'Dependents', 'Education',\n",
    "       'Self_Employed', 'Credit_History', 'Property_Area']\n",
    "var_num=['ApplicantIncome', 'CoapplicantIncome', 'LoanAmount',\n",
    "       'Loan_Amount_Term']\n",
    "print('Les variables catégorielles sont : ', var_cat)\n",
    "print('Les variables numériques sont : ', var_num)"
   ]
  },
  {
   "cell_type": "code",
   "execution_count": 11,
   "id": "35973ba6",
   "metadata": {
    "execution": {
     "iopub.execute_input": "2023-07-13T12:19:39.741467Z",
     "iopub.status.busy": "2023-07-13T12:19:39.740875Z",
     "iopub.status.idle": "2023-07-13T12:19:39.760193Z",
     "shell.execute_reply": "2023-07-13T12:19:39.758234Z"
    },
    "papermill": {
     "duration": 0.04833,
     "end_time": "2023-07-13T12:19:39.763006",
     "exception": false,
     "start_time": "2023-07-13T12:19:39.714676",
     "status": "completed"
    },
    "tags": []
   },
   "outputs": [],
   "source": [
    "# Supprimer les valeurs manquantes pour les variables catégorielles et les remplacer par la valeur modale\n",
    "# On ajoute [0] pour forcer le remplacement par la première valeur modale, car\n",
    "# il  pourrait y en avoir plusieurs\n",
    "\n",
    "df['Gender'].fillna(df['Gender'].mode()[0],inplace=True)\n",
    "df['Married'].fillna(df['Married'].mode()[0],inplace=True)\n",
    "df['Dependents'].fillna(df['Dependents'].mode()[0],inplace=True)\n",
    "df['Credit_History'].fillna(df['Credit_History'].mode()[0],inplace=True)\n",
    "df['Self_Employed'].fillna(df['Self_Employed'].mode()[0],inplace=True)\n"
   ]
  },
  {
   "cell_type": "code",
   "execution_count": 12,
   "id": "a14c5e79",
   "metadata": {
    "execution": {
     "iopub.execute_input": "2023-07-13T12:19:39.814066Z",
     "iopub.status.busy": "2023-07-13T12:19:39.813618Z",
     "iopub.status.idle": "2023-07-13T12:19:39.827204Z",
     "shell.execute_reply": "2023-07-13T12:19:39.825746Z"
    },
    "papermill": {
     "duration": 0.04197,
     "end_time": "2023-07-13T12:19:39.829753",
     "exception": false,
     "start_time": "2023-07-13T12:19:39.787783",
     "status": "completed"
    },
    "tags": []
   },
   "outputs": [],
   "source": [
    "# Supprimer les valeurs manquantes pour les variables numériques\n",
    "\n",
    "#df['ApplicantIncome'].fillna(df['ApplicantIncome'].median()[0],inplace=True)\n",
    "#df['CoapplicantIncome'].fillna(df['CoapplicantIncome'].median()[0],inplace=True)\n",
    "\n",
    "df['LoanAmount'].fillna(df['LoanAmount'].median(),inplace=True)\n",
    "df['Loan_Amount_Term'].fillna(df['Loan_Amount_Term'].median(),inplace=True)\n"
   ]
  },
  {
   "cell_type": "code",
   "execution_count": 13,
   "id": "545d0cb3",
   "metadata": {
    "execution": {
     "iopub.execute_input": "2023-07-13T12:19:39.881107Z",
     "iopub.status.busy": "2023-07-13T12:19:39.880521Z",
     "iopub.status.idle": "2023-07-13T12:19:39.886538Z",
     "shell.execute_reply": "2023-07-13T12:19:39.885129Z"
    },
    "papermill": {
     "duration": 0.035135,
     "end_time": "2023-07-13T12:19:39.889319",
     "exception": false,
     "start_time": "2023-07-13T12:19:39.854184",
     "status": "completed"
    },
    "tags": []
   },
   "outputs": [],
   "source": [
    "# Combien y a-t-il des valeurs manquantes ?\n",
    "\n",
    "#df.isnull().sum()"
   ]
  },
  {
   "cell_type": "code",
   "execution_count": 14,
   "id": "9a67bc6b",
   "metadata": {
    "execution": {
     "iopub.execute_input": "2023-07-13T12:19:39.941666Z",
     "iopub.status.busy": "2023-07-13T12:19:39.941118Z",
     "iopub.status.idle": "2023-07-13T12:19:39.952356Z",
     "shell.execute_reply": "2023-07-13T12:19:39.950517Z"
    },
    "papermill": {
     "duration": 0.040758,
     "end_time": "2023-07-13T12:19:39.955267",
     "exception": false,
     "start_time": "2023-07-13T12:19:39.914509",
     "status": "completed"
    },
    "tags": []
   },
   "outputs": [
    {
     "data": {
      "text/plain": [
       "Y    422\n",
       "N    192\n",
       "Name: Loan_Status, dtype: int64"
      ]
     },
     "execution_count": 14,
     "metadata": {},
     "output_type": "execute_result"
    }
   ],
   "source": [
    "# Analyse univariée de la variable cible\n",
    "df['Loan_Status'].value_counts()"
   ]
  },
  {
   "cell_type": "code",
   "execution_count": 15,
   "id": "0d51ded5",
   "metadata": {
    "execution": {
     "iopub.execute_input": "2023-07-13T12:19:40.006727Z",
     "iopub.status.busy": "2023-07-13T12:19:40.006230Z",
     "iopub.status.idle": "2023-07-13T12:19:40.019086Z",
     "shell.execute_reply": "2023-07-13T12:19:40.018170Z"
    },
    "papermill": {
     "duration": 0.042261,
     "end_time": "2023-07-13T12:19:40.021989",
     "exception": false,
     "start_time": "2023-07-13T12:19:39.979728",
     "status": "completed"
    },
    "tags": []
   },
   "outputs": [
    {
     "data": {
      "text/plain": [
       "Y    68.73\n",
       "N    31.27\n",
       "Name: Loan_Status, dtype: float64"
      ]
     },
     "execution_count": 15,
     "metadata": {},
     "output_type": "execute_result"
    }
   ],
   "source": [
    "# Analyse univariée de la variable cible en pourcentage\n",
    "round(df['Loan_Status'].value_counts(normalize=True)*100, 2)"
   ]
  },
  {
   "cell_type": "code",
   "execution_count": 16,
   "id": "879bd34d",
   "metadata": {
    "execution": {
     "iopub.execute_input": "2023-07-13T12:19:40.078036Z",
     "iopub.status.busy": "2023-07-13T12:19:40.077649Z",
     "iopub.status.idle": "2023-07-13T12:19:40.421563Z",
     "shell.execute_reply": "2023-07-13T12:19:40.420043Z"
    },
    "papermill": {
     "duration": 0.376793,
     "end_time": "2023-07-13T12:19:40.424452",
     "exception": false,
     "start_time": "2023-07-13T12:19:40.047659",
     "status": "completed"
    },
    "tags": []
   },
   "outputs": [
    {
     "data": {
      "text/plain": [
       "<Axes: title={'center': 'Crédits accordés ou non'}>"
      ]
     },
     "execution_count": 16,
     "metadata": {},
     "output_type": "execute_result"
    },
    {
     "data": {
      "image/png": "[encoded data removed]",
      "text/plain": [
       "<Figure size 640x480 with 1 Axes>"
      ]
     },
     "metadata": {},
     "output_type": "display_data"
    }
   ],
   "source": [
    "# Graphique d'analyse univariée  de la variable cible\n",
    "round(df['Loan_Status'].value_counts(normalize=True)*100, 2).plot.bar(title=\"Crédits accordés ou non\")"
   ]
  },
  {
   "cell_type": "markdown",
   "id": "936db81e",
   "metadata": {
    "papermill": {
     "duration": 0.027808,
     "end_time": "2023-07-13T12:19:40.481708",
     "exception": false,
     "start_time": "2023-07-13T12:19:40.453900",
     "status": "completed"
    },
    "tags": []
   },
   "source": [
    "# **Analyse Univariée des variables catégorielles**"
   ]
  },
  {
   "cell_type": "markdown",
   "id": "e8c86f7c",
   "metadata": {
    "papermill": {
     "duration": 0.0287,
     "end_time": "2023-07-13T12:19:40.539859",
     "exception": false,
     "start_time": "2023-07-13T12:19:40.511159",
     "status": "completed"
    },
    "tags": []
   },
   "source": [
    "## **Le Genre**"
   ]
  },
  {
   "cell_type": "code",
   "execution_count": 17,
   "id": "450e5c86",
   "metadata": {
    "execution": {
     "iopub.execute_input": "2023-07-13T12:19:40.600286Z",
     "iopub.status.busy": "2023-07-13T12:19:40.599856Z",
     "iopub.status.idle": "2023-07-13T12:19:40.609455Z",
     "shell.execute_reply": "2023-07-13T12:19:40.607844Z"
    },
    "papermill": {
     "duration": 0.04374,
     "end_time": "2023-07-13T12:19:40.612643",
     "exception": false,
     "start_time": "2023-07-13T12:19:40.568903",
     "status": "completed"
    },
    "tags": []
   },
   "outputs": [
    {
     "data": {
      "text/plain": [
       "Male      502\n",
       "Female    112\n",
       "Name: Gender, dtype: int64"
      ]
     },
     "execution_count": 17,
     "metadata": {},
     "output_type": "execute_result"
    }
   ],
   "source": [
    "# Analyse univariée d'une variable source\n",
    "df['Gender'].value_counts()"
   ]
  },
  {
   "cell_type": "code",
   "execution_count": 18,
   "id": "289c9241",
   "metadata": {
    "execution": {
     "iopub.execute_input": "2023-07-13T12:19:40.672823Z",
     "iopub.status.busy": "2023-07-13T12:19:40.672383Z",
     "iopub.status.idle": "2023-07-13T12:19:40.684944Z",
     "shell.execute_reply": "2023-07-13T12:19:40.683062Z"
    },
    "papermill": {
     "duration": 0.046801,
     "end_time": "2023-07-13T12:19:40.688364",
     "exception": false,
     "start_time": "2023-07-13T12:19:40.641563",
     "status": "completed"
    },
    "tags": []
   },
   "outputs": [
    {
     "data": {
      "text/plain": [
       "Male      81.76\n",
       "Female    18.24\n",
       "Name: Gender, dtype: float64"
      ]
     },
     "execution_count": 18,
     "metadata": {},
     "output_type": "execute_result"
    }
   ],
   "source": [
    "# Analyse univariée d'une variable source en pourcentage\n",
    "round(df['Gender'].value_counts(normalize=True)*100, 2)"
   ]
  },
  {
   "cell_type": "code",
   "execution_count": 19,
   "id": "6fd78411",
   "metadata": {
    "execution": {
     "iopub.execute_input": "2023-07-13T12:19:40.747318Z",
     "iopub.status.busy": "2023-07-13T12:19:40.746543Z",
     "iopub.status.idle": "2023-07-13T12:19:41.070542Z",
     "shell.execute_reply": "2023-07-13T12:19:41.069646Z"
    },
    "papermill": {
     "duration": 0.357032,
     "end_time": "2023-07-13T12:19:41.073656",
     "exception": false,
     "start_time": "2023-07-13T12:19:40.716624",
     "status": "completed"
    },
    "tags": []
   },
   "outputs": [
    {
     "data": {
      "text/plain": [
       "<Axes: title={'center': 'Répartition % des demandes de crédits par Genre'}>"
      ]
     },
     "execution_count": 19,
     "metadata": {},
     "output_type": "execute_result"
    },
    {
     "data": {
      "image/png": "[encoded data removed]",
      "text/plain": [
       "<Figure size 640x480 with 1 Axes>"
      ]
     },
     "metadata": {},
     "output_type": "display_data"
    }
   ],
   "source": [
    "# Graphique d'analyse univariée d'une variable source en pourcentage\n",
    "round(df['Gender'].value_counts(normalize=True)*100, 2).plot.bar(title=\"Répartition % des demandes de crédits par Genre\")"
   ]
  },
  {
   "cell_type": "markdown",
   "id": "d4abd51a",
   "metadata": {
    "papermill": {
     "duration": 0.027728,
     "end_time": "2023-07-13T12:19:41.130123",
     "exception": false,
     "start_time": "2023-07-13T12:19:41.102395",
     "status": "completed"
    },
    "tags": []
   },
   "source": [
    "## **Le Mariage**"
   ]
  },
  {
   "cell_type": "code",
   "execution_count": 20,
   "id": "807dbb84",
   "metadata": {
    "execution": {
     "iopub.execute_input": "2023-07-13T12:19:41.193424Z",
     "iopub.status.busy": "2023-07-13T12:19:41.192167Z",
     "iopub.status.idle": "2023-07-13T12:19:41.200880Z",
     "shell.execute_reply": "2023-07-13T12:19:41.200079Z"
    },
    "papermill": {
     "duration": 0.044076,
     "end_time": "2023-07-13T12:19:41.203760",
     "exception": false,
     "start_time": "2023-07-13T12:19:41.159684",
     "status": "completed"
    },
    "tags": []
   },
   "outputs": [
    {
     "data": {
      "text/plain": [
       "Yes    401\n",
       "No     213\n",
       "Name: Married, dtype: int64"
      ]
     },
     "execution_count": 20,
     "metadata": {},
     "output_type": "execute_result"
    }
   ],
   "source": [
    "# Analyse univariée d'une variable source\n",
    "df['Married'].value_counts()"
   ]
  },
  {
   "cell_type": "code",
   "execution_count": 21,
   "id": "3c486c03",
   "metadata": {
    "execution": {
     "iopub.execute_input": "2023-07-13T12:19:41.264831Z",
     "iopub.status.busy": "2023-07-13T12:19:41.264190Z",
     "iopub.status.idle": "2023-07-13T12:19:41.274049Z",
     "shell.execute_reply": "2023-07-13T12:19:41.272953Z"
    },
    "papermill": {
     "duration": 0.042195,
     "end_time": "2023-07-13T12:19:41.276671",
     "exception": false,
     "start_time": "2023-07-13T12:19:41.234476",
     "status": "completed"
    },
    "tags": []
   },
   "outputs": [
    {
     "data": {
      "text/plain": [
       "Yes    65.31\n",
       "No     34.69\n",
       "Name: Married, dtype: float64"
      ]
     },
     "execution_count": 21,
     "metadata": {},
     "output_type": "execute_result"
    }
   ],
   "source": [
    "# Analyse univariée d'une variable source en pourcentage\n",
    "round(df['Married'].value_counts(normalize=True)*100, 2)"
   ]
  },
  {
   "cell_type": "code",
   "execution_count": 22,
   "id": "5f7caba0",
   "metadata": {
    "execution": {
     "iopub.execute_input": "2023-07-13T12:19:41.333762Z",
     "iopub.status.busy": "2023-07-13T12:19:41.333297Z",
     "iopub.status.idle": "2023-07-13T12:19:41.592458Z",
     "shell.execute_reply": "2023-07-13T12:19:41.591109Z"
    },
    "papermill": {
     "duration": 0.29051,
     "end_time": "2023-07-13T12:19:41.595080",
     "exception": false,
     "start_time": "2023-07-13T12:19:41.304570",
     "status": "completed"
    },
    "tags": []
   },
   "outputs": [
    {
     "data": {
      "text/plain": [
       "<Axes: title={'center': 'Répartition % des demandes de crédits par Statut Marié ou non'}>"
      ]
     },
     "execution_count": 22,
     "metadata": {},
     "output_type": "execute_result"
    },
    {
     "data": {
      "image/png": "[encoded data removed]",
      "text/plain": [
       "<Figure size 640x480 with 1 Axes>"
      ]
     },
     "metadata": {},
     "output_type": "display_data"
    }
   ],
   "source": [
    "# Graphique d'analyse univariée d'une variable source en pourcentage\n",
    "round(df['Married'].value_counts(normalize=True)*100, 2).plot.bar(title=\"Répartition % des demandes de crédits par Statut Marié ou non\")"
   ]
  },
  {
   "cell_type": "markdown",
   "id": "cff7ca28",
   "metadata": {
    "papermill": {
     "duration": 0.02619,
     "end_time": "2023-07-13T12:19:41.648098",
     "exception": false,
     "start_time": "2023-07-13T12:19:41.621908",
     "status": "completed"
    },
    "tags": []
   },
   "source": [
    "## **Le nombre d'enfants**"
   ]
  },
  {
   "cell_type": "code",
   "execution_count": 23,
   "id": "fbd42a7c",
   "metadata": {
    "execution": {
     "iopub.execute_input": "2023-07-13T12:19:41.702885Z",
     "iopub.status.busy": "2023-07-13T12:19:41.702431Z",
     "iopub.status.idle": "2023-07-13T12:19:41.712073Z",
     "shell.execute_reply": "2023-07-13T12:19:41.710650Z"
    },
    "papermill": {
     "duration": 0.039607,
     "end_time": "2023-07-13T12:19:41.714279",
     "exception": false,
     "start_time": "2023-07-13T12:19:41.674672",
     "status": "completed"
    },
    "tags": []
   },
   "outputs": [
    {
     "data": {
      "text/plain": [
       "0     360\n",
       "1     102\n",
       "2     101\n",
       "3+     51\n",
       "Name: Dependents, dtype: int64"
      ]
     },
     "execution_count": 23,
     "metadata": {},
     "output_type": "execute_result"
    }
   ],
   "source": [
    "# Analyse univariée d'une variable source\n",
    "df['Dependents'].value_counts()"
   ]
  },
  {
   "cell_type": "code",
   "execution_count": 24,
   "id": "249f1f93",
   "metadata": {
    "execution": {
     "iopub.execute_input": "2023-07-13T12:19:41.770951Z",
     "iopub.status.busy": "2023-07-13T12:19:41.769953Z",
     "iopub.status.idle": "2023-07-13T12:19:41.780954Z",
     "shell.execute_reply": "2023-07-13T12:19:41.779561Z"
    },
    "papermill": {
     "duration": 0.042432,
     "end_time": "2023-07-13T12:19:41.783546",
     "exception": false,
     "start_time": "2023-07-13T12:19:41.741114",
     "status": "completed"
    },
    "tags": []
   },
   "outputs": [
    {
     "data": {
      "text/plain": [
       "0     58.63\n",
       "1     16.61\n",
       "2     16.45\n",
       "3+     8.31\n",
       "Name: Dependents, dtype: float64"
      ]
     },
     "execution_count": 24,
     "metadata": {},
     "output_type": "execute_result"
    }
   ],
   "source": [
    "# Analyse univariée d'une variable source en pourcentage\n",
    "round(df['Dependents'].value_counts(normalize=True)*100, 2)"
   ]
  },
  {
   "cell_type": "code",
   "execution_count": 25,
   "id": "093cbe4e",
   "metadata": {
    "execution": {
     "iopub.execute_input": "2023-07-13T12:19:41.840242Z",
     "iopub.status.busy": "2023-07-13T12:19:41.839766Z",
     "iopub.status.idle": "2023-07-13T12:19:42.139716Z",
     "shell.execute_reply": "2023-07-13T12:19:42.138215Z"
    },
    "papermill": {
     "duration": 0.333922,
     "end_time": "2023-07-13T12:19:42.144938",
     "exception": false,
     "start_time": "2023-07-13T12:19:41.811016",
     "status": "completed"
    },
    "tags": []
   },
   "outputs": [
    {
     "data": {
      "text/plain": [
       "<Axes: title={'center': \"Répartition % des demandes de crédits par Nombre d'enfants\"}>"
      ]
     },
     "execution_count": 25,
     "metadata": {},
     "output_type": "execute_result"
    },
    {
     "data": {
      "image/png": "[encoded data removed]",
      "text/plain": [
       "<Figure size 640x480 with 1 Axes>"
      ]
     },
     "metadata": {},
     "output_type": "display_data"
    }
   ],
   "source": [
    "# Graphique d'analyse univariée d'une variable source en pourcentage\n",
    "round(df['Dependents'].value_counts(normalize=True)*100, 2).plot.bar(title=\"Répartition % des demandes de crédits par Nombre d'enfants\")"
   ]
  },
  {
   "cell_type": "markdown",
   "id": "d27277d8",
   "metadata": {
    "papermill": {
     "duration": 0.029698,
     "end_time": "2023-07-13T12:19:42.210705",
     "exception": false,
     "start_time": "2023-07-13T12:19:42.181007",
     "status": "completed"
    },
    "tags": []
   },
   "source": [
    "## **Le niveau d'éducation**"
   ]
  },
  {
   "cell_type": "code",
   "execution_count": 26,
   "id": "b965f53e",
   "metadata": {
    "execution": {
     "iopub.execute_input": "2023-07-13T12:19:42.273530Z",
     "iopub.status.busy": "2023-07-13T12:19:42.273052Z",
     "iopub.status.idle": "2023-07-13T12:19:42.282605Z",
     "shell.execute_reply": "2023-07-13T12:19:42.281679Z"
    },
    "papermill": {
     "duration": 0.041071,
     "end_time": "2023-07-13T12:19:42.284876",
     "exception": false,
     "start_time": "2023-07-13T12:19:42.243805",
     "status": "completed"
    },
    "tags": []
   },
   "outputs": [
    {
     "data": {
      "text/plain": [
       "Graduate        480\n",
       "Not Graduate    134\n",
       "Name: Education, dtype: int64"
      ]
     },
     "execution_count": 26,
     "metadata": {},
     "output_type": "execute_result"
    }
   ],
   "source": [
    "# Analyse univariée d'une variable source\n",
    "df['Education'].value_counts()"
   ]
  },
  {
   "cell_type": "code",
   "execution_count": 27,
   "id": "32f76755",
   "metadata": {
    "execution": {
     "iopub.execute_input": "2023-07-13T12:19:42.343240Z",
     "iopub.status.busy": "2023-07-13T12:19:42.341918Z",
     "iopub.status.idle": "2023-07-13T12:19:42.352390Z",
     "shell.execute_reply": "2023-07-13T12:19:42.351522Z"
    },
    "papermill": {
     "duration": 0.041651,
     "end_time": "2023-07-13T12:19:42.354536",
     "exception": false,
     "start_time": "2023-07-13T12:19:42.312885",
     "status": "completed"
    },
    "tags": []
   },
   "outputs": [
    {
     "data": {
      "text/plain": [
       "Graduate        78.18\n",
       "Not Graduate    21.82\n",
       "Name: Education, dtype: float64"
      ]
     },
     "execution_count": 27,
     "metadata": {},
     "output_type": "execute_result"
    }
   ],
   "source": [
    "# Analyse univariée d'une variable source en pourcentage\n",
    "round(df['Education'].value_counts(normalize=True)*100, 2)"
   ]
  },
  {
   "cell_type": "code",
   "execution_count": 28,
   "id": "a2ae54a5",
   "metadata": {
    "execution": {
     "iopub.execute_input": "2023-07-13T12:19:42.413136Z",
     "iopub.status.busy": "2023-07-13T12:19:42.412669Z",
     "iopub.status.idle": "2023-07-13T12:19:42.698578Z",
     "shell.execute_reply": "2023-07-13T12:19:42.697028Z"
    },
    "papermill": {
     "duration": 0.318071,
     "end_time": "2023-07-13T12:19:42.701249",
     "exception": false,
     "start_time": "2023-07-13T12:19:42.383178",
     "status": "completed"
    },
    "tags": []
   },
   "outputs": [
    {
     "data": {
      "text/plain": [
       "<Axes: title={'center': \"Répartition % des demandes de crédits par Niveau d'éducation\"}>"
      ]
     },
     "execution_count": 28,
     "metadata": {},
     "output_type": "execute_result"
    },
    {
     "data": {
      "image/png": "[encoded data removed]",
      "text/plain": [
       "<Figure size 640x480 with 1 Axes>"
      ]
     },
     "metadata": {},
     "output_type": "display_data"
    }
   ],
   "source": [
    "# Graphique d'analyse univariée d'une variable source en pourcentage\n",
    "round(df['Education'].value_counts(normalize=True)*100, 2).plot.bar(title=\"Répartition % des demandes de crédits par Niveau d'éducation\")"
   ]
  },
  {
   "cell_type": "markdown",
   "id": "115a6489",
   "metadata": {
    "papermill": {
     "duration": 0.028694,
     "end_time": "2023-07-13T12:19:42.758457",
     "exception": false,
     "start_time": "2023-07-13T12:19:42.729763",
     "status": "completed"
    },
    "tags": []
   },
   "source": [
    "## **Le type d'emploi**"
   ]
  },
  {
   "cell_type": "code",
   "execution_count": 29,
   "id": "267f7966",
   "metadata": {
    "execution": {
     "iopub.execute_input": "2023-07-13T12:19:42.819227Z",
     "iopub.status.busy": "2023-07-13T12:19:42.817646Z",
     "iopub.status.idle": "2023-07-13T12:19:42.827980Z",
     "shell.execute_reply": "2023-07-13T12:19:42.826772Z"
    },
    "papermill": {
     "duration": 0.043545,
     "end_time": "2023-07-13T12:19:42.830471",
     "exception": false,
     "start_time": "2023-07-13T12:19:42.786926",
     "status": "completed"
    },
    "tags": []
   },
   "outputs": [
    {
     "data": {
      "text/plain": [
       "No     532\n",
       "Yes     82\n",
       "Name: Self_Employed, dtype: int64"
      ]
     },
     "execution_count": 29,
     "metadata": {},
     "output_type": "execute_result"
    }
   ],
   "source": [
    "# Analyse univariée d'une variable source\n",
    "df['Self_Employed'].value_counts()"
   ]
  },
  {
   "cell_type": "code",
   "execution_count": 30,
   "id": "f9b78c5f",
   "metadata": {
    "execution": {
     "iopub.execute_input": "2023-07-13T12:19:42.889966Z",
     "iopub.status.busy": "2023-07-13T12:19:42.889455Z",
     "iopub.status.idle": "2023-07-13T12:19:42.901602Z",
     "shell.execute_reply": "2023-07-13T12:19:42.900373Z"
    },
    "papermill": {
     "duration": 0.044722,
     "end_time": "2023-07-13T12:19:42.903978",
     "exception": false,
     "start_time": "2023-07-13T12:19:42.859256",
     "status": "completed"
    },
    "tags": []
   },
   "outputs": [
    {
     "data": {
      "text/plain": [
       "No     86.64\n",
       "Yes    13.36\n",
       "Name: Self_Employed, dtype: float64"
      ]
     },
     "execution_count": 30,
     "metadata": {},
     "output_type": "execute_result"
    }
   ],
   "source": [
    "# Analyse univariée d'une variable source en pourcentage\n",
    "round(df['Self_Employed'].value_counts(normalize=True)*100, 2)"
   ]
  },
  {
   "cell_type": "code",
   "execution_count": 31,
   "id": "7a3f3721",
   "metadata": {
    "execution": {
     "iopub.execute_input": "2023-07-13T12:19:42.965164Z",
     "iopub.status.busy": "2023-07-13T12:19:42.964054Z",
     "iopub.status.idle": "2023-07-13T12:19:42.973433Z",
     "shell.execute_reply": "2023-07-13T12:19:42.972659Z"
    },
    "papermill": {
     "duration": 0.04194,
     "end_time": "2023-07-13T12:19:42.975872",
     "exception": false,
     "start_time": "2023-07-13T12:19:42.933932",
     "status": "completed"
    },
    "tags": []
   },
   "outputs": [
    {
     "data": {
      "text/plain": [
       "No     86.64\n",
       "Yes    13.36\n",
       "Name: Self_Employed, dtype: float64"
      ]
     },
     "execution_count": 31,
     "metadata": {},
     "output_type": "execute_result"
    }
   ],
   "source": [
    "# Analyse univariée d'une variable source en pourcentage\n",
    "round(df['Self_Employed'].value_counts(normalize=True)*100, 2)"
   ]
  },
  {
   "cell_type": "code",
   "execution_count": 32,
   "id": "415daa8b",
   "metadata": {
    "execution": {
     "iopub.execute_input": "2023-07-13T12:19:43.040399Z",
     "iopub.status.busy": "2023-07-13T12:19:43.039994Z",
     "iopub.status.idle": "2023-07-13T12:19:43.325024Z",
     "shell.execute_reply": "2023-07-13T12:19:43.323680Z"
    },
    "papermill": {
     "duration": 0.322045,
     "end_time": "2023-07-13T12:19:43.328048",
     "exception": false,
     "start_time": "2023-07-13T12:19:43.006003",
     "status": "completed"
    },
    "tags": []
   },
   "outputs": [
    {
     "data": {
      "text/plain": [
       "<Axes: title={'center': \"Répartition % des demandes de crédits par Type d'emploi\"}>"
      ]
     },
     "execution_count": 32,
     "metadata": {},
     "output_type": "execute_result"
    },
    {
     "data": {
      "image/png": "[encoded data removed]",
      "text/plain": [
       "<Figure size 640x480 with 1 Axes>"
      ]
     },
     "metadata": {},
     "output_type": "display_data"
    }
   ],
   "source": [
    "# Graphique d'analyse univariée d'une variable source en pourcentage\n",
    "round(df['Self_Employed'].value_counts(normalize=True)*100, 2).plot.bar(title=\"Répartition % des demandes de crédits par Type d'emploi\")"
   ]
  },
  {
   "cell_type": "markdown",
   "id": "8e36a5c4",
   "metadata": {
    "papermill": {
     "duration": 0.031174,
     "end_time": "2023-07-13T12:19:43.389820",
     "exception": false,
     "start_time": "2023-07-13T12:19:43.358646",
     "status": "completed"
    },
    "tags": []
   },
   "source": [
    "## **Les historiques de crédit**"
   ]
  },
  {
   "cell_type": "code",
   "execution_count": 33,
   "id": "5a8de6fc",
   "metadata": {
    "execution": {
     "iopub.execute_input": "2023-07-13T12:19:43.453723Z",
     "iopub.status.busy": "2023-07-13T12:19:43.452397Z",
     "iopub.status.idle": "2023-07-13T12:19:43.461796Z",
     "shell.execute_reply": "2023-07-13T12:19:43.460607Z"
    },
    "papermill": {
     "duration": 0.043813,
     "end_time": "2023-07-13T12:19:43.464136",
     "exception": false,
     "start_time": "2023-07-13T12:19:43.420323",
     "status": "completed"
    },
    "tags": []
   },
   "outputs": [
    {
     "data": {
      "text/plain": [
       "1.0    525\n",
       "0.0     89\n",
       "Name: Credit_History, dtype: int64"
      ]
     },
     "execution_count": 33,
     "metadata": {},
     "output_type": "execute_result"
    }
   ],
   "source": [
    "# Analyse univariée d'une variable source\n",
    "df['Credit_History'].value_counts()"
   ]
  },
  {
   "cell_type": "code",
   "execution_count": 34,
   "id": "dcafb728",
   "metadata": {
    "execution": {
     "iopub.execute_input": "2023-07-13T12:19:43.526138Z",
     "iopub.status.busy": "2023-07-13T12:19:43.525697Z",
     "iopub.status.idle": "2023-07-13T12:19:43.536677Z",
     "shell.execute_reply": "2023-07-13T12:19:43.535453Z"
    },
    "papermill": {
     "duration": 0.044514,
     "end_time": "2023-07-13T12:19:43.538892",
     "exception": false,
     "start_time": "2023-07-13T12:19:43.494378",
     "status": "completed"
    },
    "tags": []
   },
   "outputs": [
    {
     "data": {
      "text/plain": [
       "1.0    85.5\n",
       "0.0    14.5\n",
       "Name: Credit_History, dtype: float64"
      ]
     },
     "execution_count": 34,
     "metadata": {},
     "output_type": "execute_result"
    }
   ],
   "source": [
    "# Analyse univariée d'une variable source en pourcentage\n",
    "round(df['Credit_History'].value_counts(normalize=True)*100, 2)"
   ]
  },
  {
   "cell_type": "code",
   "execution_count": 35,
   "id": "b37b37fb",
   "metadata": {
    "execution": {
     "iopub.execute_input": "2023-07-13T12:19:43.600360Z",
     "iopub.status.busy": "2023-07-13T12:19:43.599988Z",
     "iopub.status.idle": "2023-07-13T12:19:43.919493Z",
     "shell.execute_reply": "2023-07-13T12:19:43.918181Z"
    },
    "papermill": {
     "duration": 0.353866,
     "end_time": "2023-07-13T12:19:43.922362",
     "exception": false,
     "start_time": "2023-07-13T12:19:43.568496",
     "status": "completed"
    },
    "tags": []
   },
   "outputs": [
    {
     "data": {
      "text/plain": [
       "<Axes: title={'center': 'Répartition % des demandes de crédits par Historique de crédit'}>"
      ]
     },
     "execution_count": 35,
     "metadata": {},
     "output_type": "execute_result"
    },
    {
     "data": {
      "image/png": "[encoded data removed]",
      "text/plain": [
       "<Figure size 640x480 with 1 Axes>"
      ]
     },
     "metadata": {},
     "output_type": "display_data"
    }
   ],
   "source": [
    "# Graphique d'analyse univariée d'une variable source en pourcentage\n",
    "round(df['Credit_History'].value_counts(normalize=True)*100, 2).plot.bar(title=\"Répartition % des demandes de crédits par Historique de crédit\")"
   ]
  },
  {
   "cell_type": "markdown",
   "id": "c06d8e1d",
   "metadata": {
    "papermill": {
     "duration": 0.031546,
     "end_time": "2023-07-13T12:19:43.985771",
     "exception": false,
     "start_time": "2023-07-13T12:19:43.954225",
     "status": "completed"
    },
    "tags": []
   },
   "source": [
    "## **La superficie de la propriété**"
   ]
  },
  {
   "cell_type": "code",
   "execution_count": 36,
   "id": "f58b517f",
   "metadata": {
    "execution": {
     "iopub.execute_input": "2023-07-13T12:19:44.052187Z",
     "iopub.status.busy": "2023-07-13T12:19:44.051771Z",
     "iopub.status.idle": "2023-07-13T12:19:44.060459Z",
     "shell.execute_reply": "2023-07-13T12:19:44.059407Z"
    },
    "papermill": {
     "duration": 0.045848,
     "end_time": "2023-07-13T12:19:44.062885",
     "exception": false,
     "start_time": "2023-07-13T12:19:44.017037",
     "status": "completed"
    },
    "tags": []
   },
   "outputs": [
    {
     "data": {
      "text/plain": [
       "Semiurban    233\n",
       "Urban        202\n",
       "Rural        179\n",
       "Name: Property_Area, dtype: int64"
      ]
     },
     "execution_count": 36,
     "metadata": {},
     "output_type": "execute_result"
    }
   ],
   "source": [
    "# Analyse univariée d'une variable source\n",
    "df['Property_Area'].value_counts()"
   ]
  },
  {
   "cell_type": "code",
   "execution_count": 37,
   "id": "c23fbe67",
   "metadata": {
    "execution": {
     "iopub.execute_input": "2023-07-13T12:19:44.127300Z",
     "iopub.status.busy": "2023-07-13T12:19:44.126900Z",
     "iopub.status.idle": "2023-07-13T12:19:44.136956Z",
     "shell.execute_reply": "2023-07-13T12:19:44.135904Z"
    },
    "papermill": {
     "duration": 0.045418,
     "end_time": "2023-07-13T12:19:44.139449",
     "exception": false,
     "start_time": "2023-07-13T12:19:44.094031",
     "status": "completed"
    },
    "tags": []
   },
   "outputs": [
    {
     "data": {
      "text/plain": [
       "Semiurban    37.95\n",
       "Urban        32.90\n",
       "Rural        29.15\n",
       "Name: Property_Area, dtype: float64"
      ]
     },
     "execution_count": 37,
     "metadata": {},
     "output_type": "execute_result"
    }
   ],
   "source": [
    "# Analyse univariée d'une variable source en pourcentage\n",
    "round(df['Property_Area'].value_counts(normalize=True)*100, 2)"
   ]
  },
  {
   "cell_type": "code",
   "execution_count": 38,
   "id": "2edf848a",
   "metadata": {
    "execution": {
     "iopub.execute_input": "2023-07-13T12:19:44.205440Z",
     "iopub.status.busy": "2023-07-13T12:19:44.204480Z",
     "iopub.status.idle": "2023-07-13T12:19:44.513258Z",
     "shell.execute_reply": "2023-07-13T12:19:44.512122Z"
    },
    "papermill": {
     "duration": 0.345481,
     "end_time": "2023-07-13T12:19:44.516839",
     "exception": false,
     "start_time": "2023-07-13T12:19:44.171358",
     "status": "completed"
    },
    "tags": []
   },
   "outputs": [
    {
     "data": {
      "text/plain": [
       "<Axes: title={'center': 'Répartition % des demandes de crédits par Superficie de la propriété'}>"
      ]
     },
     "execution_count": 38,
     "metadata": {},
     "output_type": "execute_result"
    },
    {
     "data": {
      "image/png": "[encoded data removed]",
      "text/plain": [
       "<Figure size 640x480 with 1 Axes>"
      ]
     },
     "metadata": {},
     "output_type": "display_data"
    }
   ],
   "source": [
    "# Graphique d'analyse univariée d'une variable source en pourcentage\n",
    "round(df['Property_Area'].value_counts(normalize=True)*100, 2).plot.bar(title=\"Répartition % des demandes de crédits par Superficie de la propriété\")"
   ]
  },
  {
   "cell_type": "markdown",
   "id": "650614b8",
   "metadata": {
    "papermill": {
     "duration": 0.031834,
     "end_time": "2023-07-13T12:19:44.580691",
     "exception": false,
     "start_time": "2023-07-13T12:19:44.548857",
     "status": "completed"
    },
    "tags": []
   },
   "source": [
    "# **Analyse Univariée des variables numériques**"
   ]
  },
  {
   "cell_type": "code",
   "execution_count": 39,
   "id": "0da52a4d",
   "metadata": {
    "execution": {
     "iopub.execute_input": "2023-07-13T12:19:44.654664Z",
     "iopub.status.busy": "2023-07-13T12:19:44.654197Z",
     "iopub.status.idle": "2023-07-13T12:19:44.687993Z",
     "shell.execute_reply": "2023-07-13T12:19:44.686523Z"
    },
    "papermill": {
     "duration": 0.075141,
     "end_time": "2023-07-13T12:19:44.690698",
     "exception": false,
     "start_time": "2023-07-13T12:19:44.615557",
     "status": "completed"
    },
    "tags": []
   },
   "outputs": [
    {
     "data": {
      "text/html": [
       "<div>\n",
       "<style scoped>\n",
       "    .dataframe tbody tr th:only-of-type {\n",
       "        vertical-align: middle;\n",
       "    }\n",
       "\n",
       "    .dataframe tbody tr th {\n",
       "        vertical-align: top;\n",
       "    }\n",
       "\n",
       "    .dataframe thead th {\n",
       "        text-align: right;\n",
       "    }\n",
       "</style>\n",
       "<table border=\"1\" class=\"dataframe\">\n",
       "  <thead>\n",
       "    <tr style=\"text-align: right;\">\n",
       "      <th></th>\n",
       "      <th>ApplicantIncome</th>\n",
       "      <th>CoapplicantIncome</th>\n",
       "      <th>LoanAmount</th>\n",
       "      <th>Loan_Amount_Term</th>\n",
       "    </tr>\n",
       "  </thead>\n",
       "  <tbody>\n",
       "    <tr>\n",
       "      <th>count</th>\n",
       "      <td>614.000000</td>\n",
       "      <td>614.000000</td>\n",
       "      <td>614.000000</td>\n",
       "      <td>614.000000</td>\n",
       "    </tr>\n",
       "    <tr>\n",
       "      <th>mean</th>\n",
       "      <td>5403.459283</td>\n",
       "      <td>1621.245798</td>\n",
       "      <td>145.752443</td>\n",
       "      <td>342.410423</td>\n",
       "    </tr>\n",
       "    <tr>\n",
       "      <th>std</th>\n",
       "      <td>6109.041673</td>\n",
       "      <td>2926.248369</td>\n",
       "      <td>84.107233</td>\n",
       "      <td>64.428629</td>\n",
       "    </tr>\n",
       "    <tr>\n",
       "      <th>min</th>\n",
       "      <td>150.000000</td>\n",
       "      <td>0.000000</td>\n",
       "      <td>9.000000</td>\n",
       "      <td>12.000000</td>\n",
       "    </tr>\n",
       "    <tr>\n",
       "      <th>25%</th>\n",
       "      <td>2877.500000</td>\n",
       "      <td>0.000000</td>\n",
       "      <td>100.250000</td>\n",
       "      <td>360.000000</td>\n",
       "    </tr>\n",
       "    <tr>\n",
       "      <th>50%</th>\n",
       "      <td>3812.500000</td>\n",
       "      <td>1188.500000</td>\n",
       "      <td>128.000000</td>\n",
       "      <td>360.000000</td>\n",
       "    </tr>\n",
       "    <tr>\n",
       "      <th>75%</th>\n",
       "      <td>5795.000000</td>\n",
       "      <td>2297.250000</td>\n",
       "      <td>164.750000</td>\n",
       "      <td>360.000000</td>\n",
       "    </tr>\n",
       "    <tr>\n",
       "      <th>max</th>\n",
       "      <td>81000.000000</td>\n",
       "      <td>41667.000000</td>\n",
       "      <td>700.000000</td>\n",
       "      <td>480.000000</td>\n",
       "    </tr>\n",
       "  </tbody>\n",
       "</table>\n",
       "</div>"
      ],
      "text/plain": [
       "       ApplicantIncome  CoapplicantIncome  LoanAmount  Loan_Amount_Term\n",
       "count       614.000000         614.000000  614.000000        614.000000\n",
       "mean       5403.459283        1621.245798  145.752443        342.410423\n",
       "std        6109.041673        2926.248369   84.107233         64.428629\n",
       "min         150.000000           0.000000    9.000000         12.000000\n",
       "25%        2877.500000           0.000000  100.250000        360.000000\n",
       "50%        3812.500000        1188.500000  128.000000        360.000000\n",
       "75%        5795.000000        2297.250000  164.750000        360.000000\n",
       "max       81000.000000       41667.000000  700.000000        480.000000"
      ]
     },
     "execution_count": 39,
     "metadata": {},
     "output_type": "execute_result"
    }
   ],
   "source": [
    "# Analyse des variables numériques\n",
    "\n",
    "df[var_num].describe()"
   ]
  },
  {
   "cell_type": "markdown",
   "id": "1263abe7",
   "metadata": {
    "papermill": {
     "duration": 0.030816,
     "end_time": "2023-07-13T12:19:44.753572",
     "exception": false,
     "start_time": "2023-07-13T12:19:44.722756",
     "status": "completed"
    },
    "tags": []
   },
   "source": [
    "## **Le salaire de l'emprunteur**"
   ]
  },
  {
   "cell_type": "code",
   "execution_count": 40,
   "id": "f6c82865",
   "metadata": {
    "execution": {
     "iopub.execute_input": "2023-07-13T12:19:44.820691Z",
     "iopub.status.busy": "2023-07-13T12:19:44.819382Z",
     "iopub.status.idle": "2023-07-13T12:19:45.506979Z",
     "shell.execute_reply": "2023-07-13T12:19:45.505679Z"
    },
    "papermill": {
     "duration": 0.724235,
     "end_time": "2023-07-13T12:19:45.509876",
     "exception": false,
     "start_time": "2023-07-13T12:19:44.785641",
     "status": "completed"
    },
    "tags": []
   },
   "outputs": [
    {
     "name": "stderr",
     "output_type": "stream",
     "text": [
      "/tmp/ipykernel_20/974375728.py:4: UserWarning: \n",
      "\n",
      "`distplot` is a deprecated function and will be removed in seaborn v0.14.0.\n",
      "\n",
      "Please adapt your code to use either `displot` (a figure-level function with\n",
      "similar flexibility) or `histplot` (an axes-level function for histograms).\n",
      "\n",
      "For a guide to updating your code to use the new functions, please see\n",
      "https://gist.github.com/mwaskom/de44147ed2974457ad6372750bbe5751\n",
      "\n",
      "  sns.distplot(df['ApplicantIncome'])\n"
     ]
    },
    {
     "data": {
      "image/png": "[encoded data removed]",
      "text/plain": [
       "<Figure size 1200x500 with 2 Axes>"
      ]
     },
     "metadata": {},
     "output_type": "display_data"
    }
   ],
   "source": [
    "plt.figure(1)\n",
    "\n",
    "plt.subplot(121)\n",
    "sns.distplot(df['ApplicantIncome'])\n",
    "\n",
    "plt.subplot(122)\n",
    "df['ApplicantIncome'].plot.box(figsize=(12,5))\n",
    "\n",
    "plt.suptitle(\"Le salaire de l'emprunteur\")\n",
    "plt.show()\n"
   ]
  },
  {
   "cell_type": "markdown",
   "id": "988ea597",
   "metadata": {
    "papermill": {
     "duration": 0.034198,
     "end_time": "2023-07-13T12:19:45.577895",
     "exception": false,
     "start_time": "2023-07-13T12:19:45.543697",
     "status": "completed"
    },
    "tags": []
   },
   "source": [
    "## **Le salaire du conjoint**"
   ]
  },
  {
   "cell_type": "code",
   "execution_count": 41,
   "id": "be01780a",
   "metadata": {
    "execution": {
     "iopub.execute_input": "2023-07-13T12:19:45.648905Z",
     "iopub.status.busy": "2023-07-13T12:19:45.648432Z",
     "iopub.status.idle": "2023-07-13T12:19:46.127688Z",
     "shell.execute_reply": "2023-07-13T12:19:46.126380Z"
    },
    "papermill": {
     "duration": 0.51701,
     "end_time": "2023-07-13T12:19:46.130109",
     "exception": false,
     "start_time": "2023-07-13T12:19:45.613099",
     "status": "completed"
    },
    "tags": []
   },
   "outputs": [
    {
     "name": "stderr",
     "output_type": "stream",
     "text": [
      "/tmp/ipykernel_20/4034267656.py:4: UserWarning: \n",
      "\n",
      "`distplot` is a deprecated function and will be removed in seaborn v0.14.0.\n",
      "\n",
      "Please adapt your code to use either `displot` (a figure-level function with\n",
      "similar flexibility) or `histplot` (an axes-level function for histograms).\n",
      "\n",
      "For a guide to updating your code to use the new functions, please see\n",
      "https://gist.github.com/mwaskom/de44147ed2974457ad6372750bbe5751\n",
      "\n",
      "  sns.distplot(df['CoapplicantIncome'])\n"
     ]
    },
    {
     "data": {
      "image/png": "[encoded data removed]",
      "text/plain": [
       "<Figure size 1200x500 with 2 Axes>"
      ]
     },
     "metadata": {},
     "output_type": "display_data"
    }
   ],
   "source": [
    "plt.figure(1)\n",
    "\n",
    "plt.subplot(121)\n",
    "sns.distplot(df['CoapplicantIncome'])\n",
    "\n",
    "plt.subplot(122)\n",
    "df['CoapplicantIncome'].plot.box(figsize=(12,5))\n",
    "\n",
    "plt.suptitle('Salaire du conjoint')\n",
    "plt.show()\n"
   ]
  },
  {
   "cell_type": "markdown",
   "id": "91a8116f",
   "metadata": {
    "papermill": {
     "duration": 0.03449,
     "end_time": "2023-07-13T12:19:46.199196",
     "exception": false,
     "start_time": "2023-07-13T12:19:46.164706",
     "status": "completed"
    },
    "tags": []
   },
   "source": [
    "## **Le Montant de l'emprunt**"
   ]
  },
  {
   "cell_type": "code",
   "execution_count": 42,
   "id": "fc5b8842",
   "metadata": {
    "execution": {
     "iopub.execute_input": "2023-07-13T12:19:46.271581Z",
     "iopub.status.busy": "2023-07-13T12:19:46.271142Z",
     "iopub.status.idle": "2023-07-13T12:19:46.756273Z",
     "shell.execute_reply": "2023-07-13T12:19:46.754842Z"
    },
    "papermill": {
     "duration": 0.524959,
     "end_time": "2023-07-13T12:19:46.759160",
     "exception": false,
     "start_time": "2023-07-13T12:19:46.234201",
     "status": "completed"
    },
    "tags": []
   },
   "outputs": [
    {
     "name": "stderr",
     "output_type": "stream",
     "text": [
      "/tmp/ipykernel_20/1172515325.py:4: UserWarning: \n",
      "\n",
      "`distplot` is a deprecated function and will be removed in seaborn v0.14.0.\n",
      "\n",
      "Please adapt your code to use either `displot` (a figure-level function with\n",
      "similar flexibility) or `histplot` (an axes-level function for histograms).\n",
      "\n",
      "For a guide to updating your code to use the new functions, please see\n",
      "https://gist.github.com/mwaskom/de44147ed2974457ad6372750bbe5751\n",
      "\n",
      "  sns.distplot(df['LoanAmount'])\n"
     ]
    },
    {
     "data": {
      "image/png": "[encoded data removed]",
      "text/plain": [
       "<Figure size 1200x500 with 2 Axes>"
      ]
     },
     "metadata": {},
     "output_type": "display_data"
    }
   ],
   "source": [
    "plt.figure(1)\n",
    "\n",
    "plt.subplot(121)\n",
    "sns.distplot(df['LoanAmount'])\n",
    "\n",
    "plt.subplot(122)\n",
    "df['LoanAmount'].plot.box(figsize=(12,5))\n",
    "\n",
    "plt.suptitle(\"Le montant de l'emprunt (en dollars US)\")\n",
    "plt.show()\n"
   ]
  },
  {
   "cell_type": "markdown",
   "id": "87d588fc",
   "metadata": {
    "papermill": {
     "duration": 0.035105,
     "end_time": "2023-07-13T12:19:46.829691",
     "exception": false,
     "start_time": "2023-07-13T12:19:46.794586",
     "status": "completed"
    },
    "tags": []
   },
   "source": [
    "## **La durée de l'emprunt**"
   ]
  },
  {
   "cell_type": "code",
   "execution_count": 43,
   "id": "1b9d456c",
   "metadata": {
    "execution": {
     "iopub.execute_input": "2023-07-13T12:19:46.904731Z",
     "iopub.status.busy": "2023-07-13T12:19:46.904093Z",
     "iopub.status.idle": "2023-07-13T12:19:47.339441Z",
     "shell.execute_reply": "2023-07-13T12:19:47.337856Z"
    },
    "papermill": {
     "duration": 0.475513,
     "end_time": "2023-07-13T12:19:47.341914",
     "exception": false,
     "start_time": "2023-07-13T12:19:46.866401",
     "status": "completed"
    },
    "tags": []
   },
   "outputs": [
    {
     "name": "stderr",
     "output_type": "stream",
     "text": [
      "/tmp/ipykernel_20/3497925813.py:4: UserWarning: \n",
      "\n",
      "`distplot` is a deprecated function and will be removed in seaborn v0.14.0.\n",
      "\n",
      "Please adapt your code to use either `displot` (a figure-level function with\n",
      "similar flexibility) or `histplot` (an axes-level function for histograms).\n",
      "\n",
      "For a guide to updating your code to use the new functions, please see\n",
      "https://gist.github.com/mwaskom/de44147ed2974457ad6372750bbe5751\n",
      "\n",
      "  sns.distplot(df['Loan_Amount_Term'])\n"
     ]
    },
    {
     "data": {
      "image/png": "[encoded data removed]",
      "text/plain": [
       "<Figure size 1200x500 with 2 Axes>"
      ]
     },
     "metadata": {},
     "output_type": "display_data"
    }
   ],
   "source": [
    "plt.figure(1)\n",
    "\n",
    "plt.subplot(121)\n",
    "sns.distplot(df['Loan_Amount_Term'])\n",
    "\n",
    "plt.subplot(122)\n",
    "df['Loan_Amount_Term'].plot.box(figsize=(12,5))\n",
    "\n",
    "plt.suptitle(\"La durée de l'emprunt (en mois)\")\n",
    "plt.show()\n"
   ]
  },
  {
   "cell_type": "markdown",
   "id": "d35aacc2",
   "metadata": {
    "papermill": {
     "duration": 0.036794,
     "end_time": "2023-07-13T12:19:47.415095",
     "exception": false,
     "start_time": "2023-07-13T12:19:47.378301",
     "status": "completed"
    },
    "tags": []
   },
   "source": [
    "# **Analyse Bivariée**"
   ]
  },
  {
   "cell_type": "code",
   "execution_count": 44,
   "id": "663277b7",
   "metadata": {
    "execution": {
     "iopub.execute_input": "2023-07-13T12:19:47.488782Z",
     "iopub.status.busy": "2023-07-13T12:19:47.488035Z",
     "iopub.status.idle": "2023-07-13T12:19:49.018831Z",
     "shell.execute_reply": "2023-07-13T12:19:49.017819Z"
    },
    "papermill": {
     "duration": 1.570363,
     "end_time": "2023-07-13T12:19:49.021145",
     "exception": false,
     "start_time": "2023-07-13T12:19:47.450782",
     "status": "completed"
    },
    "tags": []
   },
   "outputs": [
    {
     "data": {
      "image/png": "[encoded data removed]",
      "text/plain": [
       "<Figure size 1200x1500 with 8 Axes>"
      ]
     },
     "metadata": {},
     "output_type": "display_data"
    }
   ],
   "source": [
    "# Corrélation entre les variables catégorielles et l'acceptation du crédit\n",
    "fig,axes=plt.subplots(4,2, figsize=(12,15))\n",
    "\n",
    "for idx,cat_col in enumerate(var_cat_source):\n",
    "    row,col=idx//2,idx%2\n",
    "    sns.countplot(x=cat_col, data=df, hue='Loan_Status', ax=axes[row,col])\n",
    "                                                                \n",
    "plt.subplots_adjust(hspace=1)"
   ]
  },
  {
   "cell_type": "code",
   "execution_count": 45,
   "id": "b5d05eaf",
   "metadata": {
    "execution": {
     "iopub.execute_input": "2023-07-13T12:19:49.096399Z",
     "iopub.status.busy": "2023-07-13T12:19:49.096011Z",
     "iopub.status.idle": "2023-07-13T12:19:49.559949Z",
     "shell.execute_reply": "2023-07-13T12:19:49.558664Z"
    },
    "papermill": {
     "duration": 0.505028,
     "end_time": "2023-07-13T12:19:49.562388",
     "exception": false,
     "start_time": "2023-07-13T12:19:49.057360",
     "status": "completed"
    },
    "tags": []
   },
   "outputs": [
    {
     "name": "stderr",
     "output_type": "stream",
     "text": [
      "/tmp/ipykernel_20/3373131951.py:3: FutureWarning: The default value of numeric_only in DataFrame.corr is deprecated. In a future version, it will default to False. Select only valid columns or specify the value of numeric_only to silence this warning.\n",
      "  matrix=df.corr()\n"
     ]
    },
    {
     "data": {
      "text/plain": [
       "<Axes: >"
      ]
     },
     "execution_count": 45,
     "metadata": {},
     "output_type": "execute_result"
    },
    {
     "data": {
      "image/png": "[encoded data removed]",
      "text/plain": [
       "<Figure size 800x1000 with 2 Axes>"
      ]
     },
     "metadata": {},
     "output_type": "display_data"
    }
   ],
   "source": [
    "# Corrélation des variables numériques\n",
    "\n",
    "matrix=df.corr()\n",
    "f,ax=plt.subplots(figsize=(8,10))\n",
    "sns.heatmap(matrix,vmax=.8, square=True, cmap='BuPu', annot=True)"
   ]
  },
  {
   "cell_type": "markdown",
   "id": "d03716a8",
   "metadata": {
    "papermill": {
     "duration": 0.037014,
     "end_time": "2023-07-13T12:19:49.637361",
     "exception": false,
     "start_time": "2023-07-13T12:19:49.600347",
     "status": "completed"
    },
    "tags": []
   },
   "source": [
    "# **3ème partie : Création du modèle**"
   ]
  },
  {
   "cell_type": "code",
   "execution_count": 46,
   "id": "0a6118a5",
   "metadata": {
    "execution": {
     "iopub.execute_input": "2023-07-13T12:19:49.714071Z",
     "iopub.status.busy": "2023-07-13T12:19:49.713665Z",
     "iopub.status.idle": "2023-07-13T12:19:49.735044Z",
     "shell.execute_reply": "2023-07-13T12:19:49.733915Z"
    },
    "papermill": {
     "duration": 0.062855,
     "end_time": "2023-07-13T12:19:49.737553",
     "exception": false,
     "start_time": "2023-07-13T12:19:49.674698",
     "status": "completed"
    },
    "tags": []
   },
   "outputs": [
    {
     "data": {
      "text/html": [
       "<div>\n",
       "<style scoped>\n",
       "    .dataframe tbody tr th:only-of-type {\n",
       "        vertical-align: middle;\n",
       "    }\n",
       "\n",
       "    .dataframe tbody tr th {\n",
       "        vertical-align: top;\n",
       "    }\n",
       "\n",
       "    .dataframe thead th {\n",
       "        text-align: right;\n",
       "    }\n",
       "</style>\n",
       "<table border=\"1\" class=\"dataframe\">\n",
       "  <thead>\n",
       "    <tr style=\"text-align: right;\">\n",
       "      <th></th>\n",
       "      <th>Gender</th>\n",
       "      <th>Married</th>\n",
       "      <th>Dependents</th>\n",
       "      <th>Education</th>\n",
       "      <th>Self_Employed</th>\n",
       "      <th>Credit_History</th>\n",
       "      <th>Property_Area</th>\n",
       "      <th>Loan_Status</th>\n",
       "    </tr>\n",
       "  </thead>\n",
       "  <tbody>\n",
       "    <tr>\n",
       "      <th>0</th>\n",
       "      <td>Male</td>\n",
       "      <td>No</td>\n",
       "      <td>0</td>\n",
       "      <td>Graduate</td>\n",
       "      <td>No</td>\n",
       "      <td>1.0</td>\n",
       "      <td>Urban</td>\n",
       "      <td>Y</td>\n",
       "    </tr>\n",
       "    <tr>\n",
       "      <th>1</th>\n",
       "      <td>Male</td>\n",
       "      <td>Yes</td>\n",
       "      <td>1</td>\n",
       "      <td>Graduate</td>\n",
       "      <td>No</td>\n",
       "      <td>1.0</td>\n",
       "      <td>Rural</td>\n",
       "      <td>N</td>\n",
       "    </tr>\n",
       "    <tr>\n",
       "      <th>2</th>\n",
       "      <td>Male</td>\n",
       "      <td>Yes</td>\n",
       "      <td>0</td>\n",
       "      <td>Graduate</td>\n",
       "      <td>Yes</td>\n",
       "      <td>1.0</td>\n",
       "      <td>Urban</td>\n",
       "      <td>Y</td>\n",
       "    </tr>\n",
       "    <tr>\n",
       "      <th>3</th>\n",
       "      <td>Male</td>\n",
       "      <td>Yes</td>\n",
       "      <td>0</td>\n",
       "      <td>Not Graduate</td>\n",
       "      <td>No</td>\n",
       "      <td>1.0</td>\n",
       "      <td>Urban</td>\n",
       "      <td>Y</td>\n",
       "    </tr>\n",
       "    <tr>\n",
       "      <th>4</th>\n",
       "      <td>Male</td>\n",
       "      <td>No</td>\n",
       "      <td>0</td>\n",
       "      <td>Graduate</td>\n",
       "      <td>No</td>\n",
       "      <td>1.0</td>\n",
       "      <td>Urban</td>\n",
       "      <td>Y</td>\n",
       "    </tr>\n",
       "    <tr>\n",
       "      <th>...</th>\n",
       "      <td>...</td>\n",
       "      <td>...</td>\n",
       "      <td>...</td>\n",
       "      <td>...</td>\n",
       "      <td>...</td>\n",
       "      <td>...</td>\n",
       "      <td>...</td>\n",
       "      <td>...</td>\n",
       "    </tr>\n",
       "    <tr>\n",
       "      <th>609</th>\n",
       "      <td>Female</td>\n",
       "      <td>No</td>\n",
       "      <td>0</td>\n",
       "      <td>Graduate</td>\n",
       "      <td>No</td>\n",
       "      <td>1.0</td>\n",
       "      <td>Rural</td>\n",
       "      <td>Y</td>\n",
       "    </tr>\n",
       "    <tr>\n",
       "      <th>610</th>\n",
       "      <td>Male</td>\n",
       "      <td>Yes</td>\n",
       "      <td>3+</td>\n",
       "      <td>Graduate</td>\n",
       "      <td>No</td>\n",
       "      <td>1.0</td>\n",
       "      <td>Rural</td>\n",
       "      <td>Y</td>\n",
       "    </tr>\n",
       "    <tr>\n",
       "      <th>611</th>\n",
       "      <td>Male</td>\n",
       "      <td>Yes</td>\n",
       "      <td>1</td>\n",
       "      <td>Graduate</td>\n",
       "      <td>No</td>\n",
       "      <td>1.0</td>\n",
       "      <td>Urban</td>\n",
       "      <td>Y</td>\n",
       "    </tr>\n",
       "    <tr>\n",
       "      <th>612</th>\n",
       "      <td>Male</td>\n",
       "      <td>Yes</td>\n",
       "      <td>2</td>\n",
       "      <td>Graduate</td>\n",
       "      <td>No</td>\n",
       "      <td>1.0</td>\n",
       "      <td>Urban</td>\n",
       "      <td>Y</td>\n",
       "    </tr>\n",
       "    <tr>\n",
       "      <th>613</th>\n",
       "      <td>Female</td>\n",
       "      <td>No</td>\n",
       "      <td>0</td>\n",
       "      <td>Graduate</td>\n",
       "      <td>Yes</td>\n",
       "      <td>0.0</td>\n",
       "      <td>Semiurban</td>\n",
       "      <td>N</td>\n",
       "    </tr>\n",
       "  </tbody>\n",
       "</table>\n",
       "<p>614 rows × 8 columns</p>\n",
       "</div>"
      ],
      "text/plain": [
       "     Gender Married Dependents     Education Self_Employed  Credit_History  \\\n",
       "0      Male      No          0      Graduate            No             1.0   \n",
       "1      Male     Yes          1      Graduate            No             1.0   \n",
       "2      Male     Yes          0      Graduate           Yes             1.0   \n",
       "3      Male     Yes          0  Not Graduate            No             1.0   \n",
       "4      Male      No          0      Graduate            No             1.0   \n",
       "..      ...     ...        ...           ...           ...             ...   \n",
       "609  Female      No          0      Graduate            No             1.0   \n",
       "610    Male     Yes         3+      Graduate            No             1.0   \n",
       "611    Male     Yes          1      Graduate            No             1.0   \n",
       "612    Male     Yes          2      Graduate            No             1.0   \n",
       "613  Female      No          0      Graduate           Yes             0.0   \n",
       "\n",
       "    Property_Area Loan_Status  \n",
       "0           Urban           Y  \n",
       "1           Rural           N  \n",
       "2           Urban           Y  \n",
       "3           Urban           Y  \n",
       "4           Urban           Y  \n",
       "..            ...         ...  \n",
       "609         Rural           Y  \n",
       "610         Rural           Y  \n",
       "611         Urban           Y  \n",
       "612         Urban           Y  \n",
       "613     Semiurban           N  \n",
       "\n",
       "[614 rows x 8 columns]"
      ]
     },
     "execution_count": 46,
     "metadata": {},
     "output_type": "execute_result"
    }
   ],
   "source": [
    "# création d'un dataset avec les seules variables catégorielles\n",
    "df_cat=df[var_cat]\n",
    "df_cat"
   ]
  },
  {
   "cell_type": "markdown",
   "id": "fa70cb15",
   "metadata": {
    "papermill": {
     "duration": 0.039955,
     "end_time": "2023-07-13T12:19:49.818157",
     "exception": false,
     "start_time": "2023-07-13T12:19:49.778202",
     "status": "completed"
    },
    "tags": []
   },
   "source": [
    "## **remplacer les variables catégorielles par des valeurs numériques**"
   ]
  },
  {
   "cell_type": "code",
   "execution_count": 47,
   "id": "c3adbcc6",
   "metadata": {
    "execution": {
     "iopub.execute_input": "2023-07-13T12:19:49.900337Z",
     "iopub.status.busy": "2023-07-13T12:19:49.898980Z",
     "iopub.status.idle": "2023-07-13T12:19:49.927898Z",
     "shell.execute_reply": "2023-07-13T12:19:49.926454Z"
    },
    "papermill": {
     "duration": 0.073499,
     "end_time": "2023-07-13T12:19:49.931111",
     "exception": false,
     "start_time": "2023-07-13T12:19:49.857612",
     "status": "completed"
    },
    "tags": []
   },
   "outputs": [
    {
     "data": {
      "text/html": [
       "<div>\n",
       "<style scoped>\n",
       "    .dataframe tbody tr th:only-of-type {\n",
       "        vertical-align: middle;\n",
       "    }\n",
       "\n",
       "    .dataframe tbody tr th {\n",
       "        vertical-align: top;\n",
       "    }\n",
       "\n",
       "    .dataframe thead th {\n",
       "        text-align: right;\n",
       "    }\n",
       "</style>\n",
       "<table border=\"1\" class=\"dataframe\">\n",
       "  <thead>\n",
       "    <tr style=\"text-align: right;\">\n",
       "      <th></th>\n",
       "      <th>Credit_History</th>\n",
       "      <th>Gender_Male</th>\n",
       "      <th>Married_Yes</th>\n",
       "      <th>Dependents_1</th>\n",
       "      <th>Dependents_2</th>\n",
       "      <th>Dependents_3+</th>\n",
       "      <th>Education_Not Graduate</th>\n",
       "      <th>Self_Employed_Yes</th>\n",
       "      <th>Property_Area_Semiurban</th>\n",
       "      <th>Property_Area_Urban</th>\n",
       "      <th>Loan_Status_Y</th>\n",
       "    </tr>\n",
       "  </thead>\n",
       "  <tbody>\n",
       "    <tr>\n",
       "      <th>0</th>\n",
       "      <td>1.0</td>\n",
       "      <td>1</td>\n",
       "      <td>0</td>\n",
       "      <td>0</td>\n",
       "      <td>0</td>\n",
       "      <td>0</td>\n",
       "      <td>0</td>\n",
       "      <td>0</td>\n",
       "      <td>0</td>\n",
       "      <td>1</td>\n",
       "      <td>1</td>\n",
       "    </tr>\n",
       "    <tr>\n",
       "      <th>1</th>\n",
       "      <td>1.0</td>\n",
       "      <td>1</td>\n",
       "      <td>1</td>\n",
       "      <td>1</td>\n",
       "      <td>0</td>\n",
       "      <td>0</td>\n",
       "      <td>0</td>\n",
       "      <td>0</td>\n",
       "      <td>0</td>\n",
       "      <td>0</td>\n",
       "      <td>0</td>\n",
       "    </tr>\n",
       "    <tr>\n",
       "      <th>2</th>\n",
       "      <td>1.0</td>\n",
       "      <td>1</td>\n",
       "      <td>1</td>\n",
       "      <td>0</td>\n",
       "      <td>0</td>\n",
       "      <td>0</td>\n",
       "      <td>0</td>\n",
       "      <td>1</td>\n",
       "      <td>0</td>\n",
       "      <td>1</td>\n",
       "      <td>1</td>\n",
       "    </tr>\n",
       "    <tr>\n",
       "      <th>3</th>\n",
       "      <td>1.0</td>\n",
       "      <td>1</td>\n",
       "      <td>1</td>\n",
       "      <td>0</td>\n",
       "      <td>0</td>\n",
       "      <td>0</td>\n",
       "      <td>1</td>\n",
       "      <td>0</td>\n",
       "      <td>0</td>\n",
       "      <td>1</td>\n",
       "      <td>1</td>\n",
       "    </tr>\n",
       "    <tr>\n",
       "      <th>4</th>\n",
       "      <td>1.0</td>\n",
       "      <td>1</td>\n",
       "      <td>0</td>\n",
       "      <td>0</td>\n",
       "      <td>0</td>\n",
       "      <td>0</td>\n",
       "      <td>0</td>\n",
       "      <td>0</td>\n",
       "      <td>0</td>\n",
       "      <td>1</td>\n",
       "      <td>1</td>\n",
       "    </tr>\n",
       "    <tr>\n",
       "      <th>...</th>\n",
       "      <td>...</td>\n",
       "      <td>...</td>\n",
       "      <td>...</td>\n",
       "      <td>...</td>\n",
       "      <td>...</td>\n",
       "      <td>...</td>\n",
       "      <td>...</td>\n",
       "      <td>...</td>\n",
       "      <td>...</td>\n",
       "      <td>...</td>\n",
       "      <td>...</td>\n",
       "    </tr>\n",
       "    <tr>\n",
       "      <th>609</th>\n",
       "      <td>1.0</td>\n",
       "      <td>0</td>\n",
       "      <td>0</td>\n",
       "      <td>0</td>\n",
       "      <td>0</td>\n",
       "      <td>0</td>\n",
       "      <td>0</td>\n",
       "      <td>0</td>\n",
       "      <td>0</td>\n",
       "      <td>0</td>\n",
       "      <td>1</td>\n",
       "    </tr>\n",
       "    <tr>\n",
       "      <th>610</th>\n",
       "      <td>1.0</td>\n",
       "      <td>1</td>\n",
       "      <td>1</td>\n",
       "      <td>0</td>\n",
       "      <td>0</td>\n",
       "      <td>1</td>\n",
       "      <td>0</td>\n",
       "      <td>0</td>\n",
       "      <td>0</td>\n",
       "      <td>0</td>\n",
       "      <td>1</td>\n",
       "    </tr>\n",
       "    <tr>\n",
       "      <th>611</th>\n",
       "      <td>1.0</td>\n",
       "      <td>1</td>\n",
       "      <td>1</td>\n",
       "      <td>1</td>\n",
       "      <td>0</td>\n",
       "      <td>0</td>\n",
       "      <td>0</td>\n",
       "      <td>0</td>\n",
       "      <td>0</td>\n",
       "      <td>1</td>\n",
       "      <td>1</td>\n",
       "    </tr>\n",
       "    <tr>\n",
       "      <th>612</th>\n",
       "      <td>1.0</td>\n",
       "      <td>1</td>\n",
       "      <td>1</td>\n",
       "      <td>0</td>\n",
       "      <td>1</td>\n",
       "      <td>0</td>\n",
       "      <td>0</td>\n",
       "      <td>0</td>\n",
       "      <td>0</td>\n",
       "      <td>1</td>\n",
       "      <td>1</td>\n",
       "    </tr>\n",
       "    <tr>\n",
       "      <th>613</th>\n",
       "      <td>0.0</td>\n",
       "      <td>0</td>\n",
       "      <td>0</td>\n",
       "      <td>0</td>\n",
       "      <td>0</td>\n",
       "      <td>0</td>\n",
       "      <td>0</td>\n",
       "      <td>1</td>\n",
       "      <td>1</td>\n",
       "      <td>0</td>\n",
       "      <td>0</td>\n",
       "    </tr>\n",
       "  </tbody>\n",
       "</table>\n",
       "<p>614 rows × 11 columns</p>\n",
       "</div>"
      ],
      "text/plain": [
       "     Credit_History  Gender_Male  Married_Yes  Dependents_1  Dependents_2  \\\n",
       "0               1.0            1            0             0             0   \n",
       "1               1.0            1            1             1             0   \n",
       "2               1.0            1            1             0             0   \n",
       "3               1.0            1            1             0             0   \n",
       "4               1.0            1            0             0             0   \n",
       "..              ...          ...          ...           ...           ...   \n",
       "609             1.0            0            0             0             0   \n",
       "610             1.0            1            1             0             0   \n",
       "611             1.0            1            1             1             0   \n",
       "612             1.0            1            1             0             1   \n",
       "613             0.0            0            0             0             0   \n",
       "\n",
       "     Dependents_3+  Education_Not Graduate  Self_Employed_Yes  \\\n",
       "0                0                       0                  0   \n",
       "1                0                       0                  0   \n",
       "2                0                       0                  1   \n",
       "3                0                       1                  0   \n",
       "4                0                       0                  0   \n",
       "..             ...                     ...                ...   \n",
       "609              0                       0                  0   \n",
       "610              1                       0                  0   \n",
       "611              0                       0                  0   \n",
       "612              0                       0                  0   \n",
       "613              0                       0                  1   \n",
       "\n",
       "     Property_Area_Semiurban  Property_Area_Urban  Loan_Status_Y  \n",
       "0                          0                    1              1  \n",
       "1                          0                    0              0  \n",
       "2                          0                    1              1  \n",
       "3                          0                    1              1  \n",
       "4                          0                    1              1  \n",
       "..                       ...                  ...            ...  \n",
       "609                        0                    0              1  \n",
       "610                        0                    0              1  \n",
       "611                        0                    1              1  \n",
       "612                        0                    1              1  \n",
       "613                        1                    0              0  \n",
       "\n",
       "[614 rows x 11 columns]"
      ]
     },
     "execution_count": 47,
     "metadata": {},
     "output_type": "execute_result"
    }
   ],
   "source": [
    "df_cat=pd.get_dummies(df_cat, drop_first=True)\n",
    "df_cat"
   ]
  },
  {
   "cell_type": "code",
   "execution_count": 48,
   "id": "2b1918de",
   "metadata": {
    "execution": {
     "iopub.execute_input": "2023-07-13T12:19:50.012499Z",
     "iopub.status.busy": "2023-07-13T12:19:50.012047Z",
     "iopub.status.idle": "2023-07-13T12:19:50.033726Z",
     "shell.execute_reply": "2023-07-13T12:19:50.032542Z"
    },
    "papermill": {
     "duration": 0.06554,
     "end_time": "2023-07-13T12:19:50.036395",
     "exception": false,
     "start_time": "2023-07-13T12:19:49.970855",
     "status": "completed"
    },
    "tags": []
   },
   "outputs": [
    {
     "data": {
      "text/html": [
       "<div>\n",
       "<style scoped>\n",
       "    .dataframe tbody tr th:only-of-type {\n",
       "        vertical-align: middle;\n",
       "    }\n",
       "\n",
       "    .dataframe tbody tr th {\n",
       "        vertical-align: top;\n",
       "    }\n",
       "\n",
       "    .dataframe thead th {\n",
       "        text-align: right;\n",
       "    }\n",
       "</style>\n",
       "<table border=\"1\" class=\"dataframe\">\n",
       "  <thead>\n",
       "    <tr style=\"text-align: right;\">\n",
       "      <th></th>\n",
       "      <th>Credit_History</th>\n",
       "      <th>Gender_Male</th>\n",
       "      <th>Married_Yes</th>\n",
       "      <th>Dependents_1</th>\n",
       "      <th>Dependents_2</th>\n",
       "      <th>Dependents_3+</th>\n",
       "      <th>Education_Not Graduate</th>\n",
       "      <th>Self_Employed_Yes</th>\n",
       "      <th>Property_Area_Semiurban</th>\n",
       "      <th>Property_Area_Urban</th>\n",
       "      <th>Loan_Status_Y</th>\n",
       "    </tr>\n",
       "  </thead>\n",
       "  <tbody>\n",
       "    <tr>\n",
       "      <th>0</th>\n",
       "      <td>1.0</td>\n",
       "      <td>1</td>\n",
       "      <td>0</td>\n",
       "      <td>0</td>\n",
       "      <td>0</td>\n",
       "      <td>0</td>\n",
       "      <td>0</td>\n",
       "      <td>0</td>\n",
       "      <td>0</td>\n",
       "      <td>1</td>\n",
       "      <td>1</td>\n",
       "    </tr>\n",
       "    <tr>\n",
       "      <th>1</th>\n",
       "      <td>1.0</td>\n",
       "      <td>1</td>\n",
       "      <td>1</td>\n",
       "      <td>1</td>\n",
       "      <td>0</td>\n",
       "      <td>0</td>\n",
       "      <td>0</td>\n",
       "      <td>0</td>\n",
       "      <td>0</td>\n",
       "      <td>0</td>\n",
       "      <td>0</td>\n",
       "    </tr>\n",
       "    <tr>\n",
       "      <th>2</th>\n",
       "      <td>1.0</td>\n",
       "      <td>1</td>\n",
       "      <td>1</td>\n",
       "      <td>0</td>\n",
       "      <td>0</td>\n",
       "      <td>0</td>\n",
       "      <td>0</td>\n",
       "      <td>1</td>\n",
       "      <td>0</td>\n",
       "      <td>1</td>\n",
       "      <td>1</td>\n",
       "    </tr>\n",
       "    <tr>\n",
       "      <th>3</th>\n",
       "      <td>1.0</td>\n",
       "      <td>1</td>\n",
       "      <td>1</td>\n",
       "      <td>0</td>\n",
       "      <td>0</td>\n",
       "      <td>0</td>\n",
       "      <td>1</td>\n",
       "      <td>0</td>\n",
       "      <td>0</td>\n",
       "      <td>1</td>\n",
       "      <td>1</td>\n",
       "    </tr>\n",
       "    <tr>\n",
       "      <th>4</th>\n",
       "      <td>1.0</td>\n",
       "      <td>1</td>\n",
       "      <td>0</td>\n",
       "      <td>0</td>\n",
       "      <td>0</td>\n",
       "      <td>0</td>\n",
       "      <td>0</td>\n",
       "      <td>0</td>\n",
       "      <td>0</td>\n",
       "      <td>1</td>\n",
       "      <td>1</td>\n",
       "    </tr>\n",
       "    <tr>\n",
       "      <th>...</th>\n",
       "      <td>...</td>\n",
       "      <td>...</td>\n",
       "      <td>...</td>\n",
       "      <td>...</td>\n",
       "      <td>...</td>\n",
       "      <td>...</td>\n",
       "      <td>...</td>\n",
       "      <td>...</td>\n",
       "      <td>...</td>\n",
       "      <td>...</td>\n",
       "      <td>...</td>\n",
       "    </tr>\n",
       "    <tr>\n",
       "      <th>609</th>\n",
       "      <td>1.0</td>\n",
       "      <td>0</td>\n",
       "      <td>0</td>\n",
       "      <td>0</td>\n",
       "      <td>0</td>\n",
       "      <td>0</td>\n",
       "      <td>0</td>\n",
       "      <td>0</td>\n",
       "      <td>0</td>\n",
       "      <td>0</td>\n",
       "      <td>1</td>\n",
       "    </tr>\n",
       "    <tr>\n",
       "      <th>610</th>\n",
       "      <td>1.0</td>\n",
       "      <td>1</td>\n",
       "      <td>1</td>\n",
       "      <td>0</td>\n",
       "      <td>0</td>\n",
       "      <td>1</td>\n",
       "      <td>0</td>\n",
       "      <td>0</td>\n",
       "      <td>0</td>\n",
       "      <td>0</td>\n",
       "      <td>1</td>\n",
       "    </tr>\n",
       "    <tr>\n",
       "      <th>611</th>\n",
       "      <td>1.0</td>\n",
       "      <td>1</td>\n",
       "      <td>1</td>\n",
       "      <td>1</td>\n",
       "      <td>0</td>\n",
       "      <td>0</td>\n",
       "      <td>0</td>\n",
       "      <td>0</td>\n",
       "      <td>0</td>\n",
       "      <td>1</td>\n",
       "      <td>1</td>\n",
       "    </tr>\n",
       "    <tr>\n",
       "      <th>612</th>\n",
       "      <td>1.0</td>\n",
       "      <td>1</td>\n",
       "      <td>1</td>\n",
       "      <td>0</td>\n",
       "      <td>1</td>\n",
       "      <td>0</td>\n",
       "      <td>0</td>\n",
       "      <td>0</td>\n",
       "      <td>0</td>\n",
       "      <td>1</td>\n",
       "      <td>1</td>\n",
       "    </tr>\n",
       "    <tr>\n",
       "      <th>613</th>\n",
       "      <td>0.0</td>\n",
       "      <td>0</td>\n",
       "      <td>0</td>\n",
       "      <td>0</td>\n",
       "      <td>0</td>\n",
       "      <td>0</td>\n",
       "      <td>0</td>\n",
       "      <td>1</td>\n",
       "      <td>1</td>\n",
       "      <td>0</td>\n",
       "      <td>0</td>\n",
       "    </tr>\n",
       "  </tbody>\n",
       "</table>\n",
       "<p>614 rows × 11 columns</p>\n",
       "</div>"
      ],
      "text/plain": [
       "     Credit_History  Gender_Male  Married_Yes  Dependents_1  Dependents_2  \\\n",
       "0               1.0            1            0             0             0   \n",
       "1               1.0            1            1             1             0   \n",
       "2               1.0            1            1             0             0   \n",
       "3               1.0            1            1             0             0   \n",
       "4               1.0            1            0             0             0   \n",
       "..              ...          ...          ...           ...           ...   \n",
       "609             1.0            0            0             0             0   \n",
       "610             1.0            1            1             0             0   \n",
       "611             1.0            1            1             1             0   \n",
       "612             1.0            1            1             0             1   \n",
       "613             0.0            0            0             0             0   \n",
       "\n",
       "     Dependents_3+  Education_Not Graduate  Self_Employed_Yes  \\\n",
       "0                0                       0                  0   \n",
       "1                0                       0                  0   \n",
       "2                0                       0                  1   \n",
       "3                0                       1                  0   \n",
       "4                0                       0                  0   \n",
       "..             ...                     ...                ...   \n",
       "609              0                       0                  0   \n",
       "610              1                       0                  0   \n",
       "611              0                       0                  0   \n",
       "612              0                       0                  0   \n",
       "613              0                       0                  1   \n",
       "\n",
       "     Property_Area_Semiurban  Property_Area_Urban  Loan_Status_Y  \n",
       "0                          0                    1              1  \n",
       "1                          0                    0              0  \n",
       "2                          0                    1              1  \n",
       "3                          0                    1              1  \n",
       "4                          0                    1              1  \n",
       "..                       ...                  ...            ...  \n",
       "609                        0                    0              1  \n",
       "610                        0                    0              1  \n",
       "611                        0                    1              1  \n",
       "612                        0                    1              1  \n",
       "613                        1                    0              0  \n",
       "\n",
       "[614 rows x 11 columns]"
      ]
     },
     "execution_count": 48,
     "metadata": {},
     "output_type": "execute_result"
    }
   ],
   "source": [
    "df_cat"
   ]
  },
  {
   "cell_type": "code",
   "execution_count": 49,
   "id": "f30665da",
   "metadata": {
    "execution": {
     "iopub.execute_input": "2023-07-13T12:19:50.122439Z",
     "iopub.status.busy": "2023-07-13T12:19:50.121341Z",
     "iopub.status.idle": "2023-07-13T12:19:50.141257Z",
     "shell.execute_reply": "2023-07-13T12:19:50.139992Z"
    },
    "papermill": {
     "duration": 0.067858,
     "end_time": "2023-07-13T12:19:50.143890",
     "exception": false,
     "start_time": "2023-07-13T12:19:50.076032",
     "status": "completed"
    },
    "tags": []
   },
   "outputs": [
    {
     "data": {
      "text/html": [
       "<div>\n",
       "<style scoped>\n",
       "    .dataframe tbody tr th:only-of-type {\n",
       "        vertical-align: middle;\n",
       "    }\n",
       "\n",
       "    .dataframe tbody tr th {\n",
       "        vertical-align: top;\n",
       "    }\n",
       "\n",
       "    .dataframe thead th {\n",
       "        text-align: right;\n",
       "    }\n",
       "</style>\n",
       "<table border=\"1\" class=\"dataframe\">\n",
       "  <thead>\n",
       "    <tr style=\"text-align: right;\">\n",
       "      <th></th>\n",
       "      <th>ApplicantIncome</th>\n",
       "      <th>CoapplicantIncome</th>\n",
       "      <th>LoanAmount</th>\n",
       "      <th>Loan_Amount_Term</th>\n",
       "    </tr>\n",
       "  </thead>\n",
       "  <tbody>\n",
       "    <tr>\n",
       "      <th>0</th>\n",
       "      <td>5849</td>\n",
       "      <td>0.0</td>\n",
       "      <td>128.0</td>\n",
       "      <td>360.0</td>\n",
       "    </tr>\n",
       "    <tr>\n",
       "      <th>1</th>\n",
       "      <td>4583</td>\n",
       "      <td>1508.0</td>\n",
       "      <td>128.0</td>\n",
       "      <td>360.0</td>\n",
       "    </tr>\n",
       "    <tr>\n",
       "      <th>2</th>\n",
       "      <td>3000</td>\n",
       "      <td>0.0</td>\n",
       "      <td>66.0</td>\n",
       "      <td>360.0</td>\n",
       "    </tr>\n",
       "    <tr>\n",
       "      <th>3</th>\n",
       "      <td>2583</td>\n",
       "      <td>2358.0</td>\n",
       "      <td>120.0</td>\n",
       "      <td>360.0</td>\n",
       "    </tr>\n",
       "    <tr>\n",
       "      <th>4</th>\n",
       "      <td>6000</td>\n",
       "      <td>0.0</td>\n",
       "      <td>141.0</td>\n",
       "      <td>360.0</td>\n",
       "    </tr>\n",
       "    <tr>\n",
       "      <th>...</th>\n",
       "      <td>...</td>\n",
       "      <td>...</td>\n",
       "      <td>...</td>\n",
       "      <td>...</td>\n",
       "    </tr>\n",
       "    <tr>\n",
       "      <th>609</th>\n",
       "      <td>2900</td>\n",
       "      <td>0.0</td>\n",
       "      <td>71.0</td>\n",
       "      <td>360.0</td>\n",
       "    </tr>\n",
       "    <tr>\n",
       "      <th>610</th>\n",
       "      <td>4106</td>\n",
       "      <td>0.0</td>\n",
       "      <td>40.0</td>\n",
       "      <td>180.0</td>\n",
       "    </tr>\n",
       "    <tr>\n",
       "      <th>611</th>\n",
       "      <td>8072</td>\n",
       "      <td>240.0</td>\n",
       "      <td>253.0</td>\n",
       "      <td>360.0</td>\n",
       "    </tr>\n",
       "    <tr>\n",
       "      <th>612</th>\n",
       "      <td>7583</td>\n",
       "      <td>0.0</td>\n",
       "      <td>187.0</td>\n",
       "      <td>360.0</td>\n",
       "    </tr>\n",
       "    <tr>\n",
       "      <th>613</th>\n",
       "      <td>4583</td>\n",
       "      <td>0.0</td>\n",
       "      <td>133.0</td>\n",
       "      <td>360.0</td>\n",
       "    </tr>\n",
       "  </tbody>\n",
       "</table>\n",
       "<p>614 rows × 4 columns</p>\n",
       "</div>"
      ],
      "text/plain": [
       "     ApplicantIncome  CoapplicantIncome  LoanAmount  Loan_Amount_Term\n",
       "0               5849                0.0       128.0             360.0\n",
       "1               4583             1508.0       128.0             360.0\n",
       "2               3000                0.0        66.0             360.0\n",
       "3               2583             2358.0       120.0             360.0\n",
       "4               6000                0.0       141.0             360.0\n",
       "..               ...                ...         ...               ...\n",
       "609             2900                0.0        71.0             360.0\n",
       "610             4106                0.0        40.0             180.0\n",
       "611             8072              240.0       253.0             360.0\n",
       "612             7583                0.0       187.0             360.0\n",
       "613             4583                0.0       133.0             360.0\n",
       "\n",
       "[614 rows x 4 columns]"
      ]
     },
     "execution_count": 49,
     "metadata": {},
     "output_type": "execute_result"
    }
   ],
   "source": [
    "df_num=df[var_num]\n",
    "df_num"
   ]
  },
  {
   "cell_type": "code",
   "execution_count": 50,
   "id": "e026eddc",
   "metadata": {
    "execution": {
     "iopub.execute_input": "2023-07-13T12:19:50.223785Z",
     "iopub.status.busy": "2023-07-13T12:19:50.223294Z",
     "iopub.status.idle": "2023-07-13T12:19:50.252948Z",
     "shell.execute_reply": "2023-07-13T12:19:50.251610Z"
    },
    "papermill": {
     "duration": 0.072664,
     "end_time": "2023-07-13T12:19:50.255443",
     "exception": false,
     "start_time": "2023-07-13T12:19:50.182779",
     "status": "completed"
    },
    "tags": []
   },
   "outputs": [
    {
     "data": {
      "text/html": [
       "<div>\n",
       "<style scoped>\n",
       "    .dataframe tbody tr th:only-of-type {\n",
       "        vertical-align: middle;\n",
       "    }\n",
       "\n",
       "    .dataframe tbody tr th {\n",
       "        vertical-align: top;\n",
       "    }\n",
       "\n",
       "    .dataframe thead th {\n",
       "        text-align: right;\n",
       "    }\n",
       "</style>\n",
       "<table border=\"1\" class=\"dataframe\">\n",
       "  <thead>\n",
       "    <tr style=\"text-align: right;\">\n",
       "      <th></th>\n",
       "      <th>Credit_History</th>\n",
       "      <th>Gender_Male</th>\n",
       "      <th>Married_Yes</th>\n",
       "      <th>Dependents_1</th>\n",
       "      <th>Dependents_2</th>\n",
       "      <th>Dependents_3+</th>\n",
       "      <th>Education_Not Graduate</th>\n",
       "      <th>Self_Employed_Yes</th>\n",
       "      <th>Property_Area_Semiurban</th>\n",
       "      <th>Property_Area_Urban</th>\n",
       "      <th>Loan_Status_Y</th>\n",
       "      <th>ApplicantIncome</th>\n",
       "      <th>CoapplicantIncome</th>\n",
       "      <th>LoanAmount</th>\n",
       "      <th>Loan_Amount_Term</th>\n",
       "    </tr>\n",
       "  </thead>\n",
       "  <tbody>\n",
       "    <tr>\n",
       "      <th>0</th>\n",
       "      <td>1.0</td>\n",
       "      <td>1</td>\n",
       "      <td>0</td>\n",
       "      <td>0</td>\n",
       "      <td>0</td>\n",
       "      <td>0</td>\n",
       "      <td>0</td>\n",
       "      <td>0</td>\n",
       "      <td>0</td>\n",
       "      <td>1</td>\n",
       "      <td>1</td>\n",
       "      <td>5849</td>\n",
       "      <td>0.0</td>\n",
       "      <td>128.0</td>\n",
       "      <td>360.0</td>\n",
       "    </tr>\n",
       "    <tr>\n",
       "      <th>1</th>\n",
       "      <td>1.0</td>\n",
       "      <td>1</td>\n",
       "      <td>1</td>\n",
       "      <td>1</td>\n",
       "      <td>0</td>\n",
       "      <td>0</td>\n",
       "      <td>0</td>\n",
       "      <td>0</td>\n",
       "      <td>0</td>\n",
       "      <td>0</td>\n",
       "      <td>0</td>\n",
       "      <td>4583</td>\n",
       "      <td>1508.0</td>\n",
       "      <td>128.0</td>\n",
       "      <td>360.0</td>\n",
       "    </tr>\n",
       "    <tr>\n",
       "      <th>2</th>\n",
       "      <td>1.0</td>\n",
       "      <td>1</td>\n",
       "      <td>1</td>\n",
       "      <td>0</td>\n",
       "      <td>0</td>\n",
       "      <td>0</td>\n",
       "      <td>0</td>\n",
       "      <td>1</td>\n",
       "      <td>0</td>\n",
       "      <td>1</td>\n",
       "      <td>1</td>\n",
       "      <td>3000</td>\n",
       "      <td>0.0</td>\n",
       "      <td>66.0</td>\n",
       "      <td>360.0</td>\n",
       "    </tr>\n",
       "    <tr>\n",
       "      <th>3</th>\n",
       "      <td>1.0</td>\n",
       "      <td>1</td>\n",
       "      <td>1</td>\n",
       "      <td>0</td>\n",
       "      <td>0</td>\n",
       "      <td>0</td>\n",
       "      <td>1</td>\n",
       "      <td>0</td>\n",
       "      <td>0</td>\n",
       "      <td>1</td>\n",
       "      <td>1</td>\n",
       "      <td>2583</td>\n",
       "      <td>2358.0</td>\n",
       "      <td>120.0</td>\n",
       "      <td>360.0</td>\n",
       "    </tr>\n",
       "    <tr>\n",
       "      <th>4</th>\n",
       "      <td>1.0</td>\n",
       "      <td>1</td>\n",
       "      <td>0</td>\n",
       "      <td>0</td>\n",
       "      <td>0</td>\n",
       "      <td>0</td>\n",
       "      <td>0</td>\n",
       "      <td>0</td>\n",
       "      <td>0</td>\n",
       "      <td>1</td>\n",
       "      <td>1</td>\n",
       "      <td>6000</td>\n",
       "      <td>0.0</td>\n",
       "      <td>141.0</td>\n",
       "      <td>360.0</td>\n",
       "    </tr>\n",
       "    <tr>\n",
       "      <th>...</th>\n",
       "      <td>...</td>\n",
       "      <td>...</td>\n",
       "      <td>...</td>\n",
       "      <td>...</td>\n",
       "      <td>...</td>\n",
       "      <td>...</td>\n",
       "      <td>...</td>\n",
       "      <td>...</td>\n",
       "      <td>...</td>\n",
       "      <td>...</td>\n",
       "      <td>...</td>\n",
       "      <td>...</td>\n",
       "      <td>...</td>\n",
       "      <td>...</td>\n",
       "      <td>...</td>\n",
       "    </tr>\n",
       "    <tr>\n",
       "      <th>609</th>\n",
       "      <td>1.0</td>\n",
       "      <td>0</td>\n",
       "      <td>0</td>\n",
       "      <td>0</td>\n",
       "      <td>0</td>\n",
       "      <td>0</td>\n",
       "      <td>0</td>\n",
       "      <td>0</td>\n",
       "      <td>0</td>\n",
       "      <td>0</td>\n",
       "      <td>1</td>\n",
       "      <td>2900</td>\n",
       "      <td>0.0</td>\n",
       "      <td>71.0</td>\n",
       "      <td>360.0</td>\n",
       "    </tr>\n",
       "    <tr>\n",
       "      <th>610</th>\n",
       "      <td>1.0</td>\n",
       "      <td>1</td>\n",
       "      <td>1</td>\n",
       "      <td>0</td>\n",
       "      <td>0</td>\n",
       "      <td>1</td>\n",
       "      <td>0</td>\n",
       "      <td>0</td>\n",
       "      <td>0</td>\n",
       "      <td>0</td>\n",
       "      <td>1</td>\n",
       "      <td>4106</td>\n",
       "      <td>0.0</td>\n",
       "      <td>40.0</td>\n",
       "      <td>180.0</td>\n",
       "    </tr>\n",
       "    <tr>\n",
       "      <th>611</th>\n",
       "      <td>1.0</td>\n",
       "      <td>1</td>\n",
       "      <td>1</td>\n",
       "      <td>1</td>\n",
       "      <td>0</td>\n",
       "      <td>0</td>\n",
       "      <td>0</td>\n",
       "      <td>0</td>\n",
       "      <td>0</td>\n",
       "      <td>1</td>\n",
       "      <td>1</td>\n",
       "      <td>8072</td>\n",
       "      <td>240.0</td>\n",
       "      <td>253.0</td>\n",
       "      <td>360.0</td>\n",
       "    </tr>\n",
       "    <tr>\n",
       "      <th>612</th>\n",
       "      <td>1.0</td>\n",
       "      <td>1</td>\n",
       "      <td>1</td>\n",
       "      <td>0</td>\n",
       "      <td>1</td>\n",
       "      <td>0</td>\n",
       "      <td>0</td>\n",
       "      <td>0</td>\n",
       "      <td>0</td>\n",
       "      <td>1</td>\n",
       "      <td>1</td>\n",
       "      <td>7583</td>\n",
       "      <td>0.0</td>\n",
       "      <td>187.0</td>\n",
       "      <td>360.0</td>\n",
       "    </tr>\n",
       "    <tr>\n",
       "      <th>613</th>\n",
       "      <td>0.0</td>\n",
       "      <td>0</td>\n",
       "      <td>0</td>\n",
       "      <td>0</td>\n",
       "      <td>0</td>\n",
       "      <td>0</td>\n",
       "      <td>0</td>\n",
       "      <td>1</td>\n",
       "      <td>1</td>\n",
       "      <td>0</td>\n",
       "      <td>0</td>\n",
       "      <td>4583</td>\n",
       "      <td>0.0</td>\n",
       "      <td>133.0</td>\n",
       "      <td>360.0</td>\n",
       "    </tr>\n",
       "  </tbody>\n",
       "</table>\n",
       "<p>614 rows × 15 columns</p>\n",
       "</div>"
      ],
      "text/plain": [
       "     Credit_History  Gender_Male  Married_Yes  Dependents_1  Dependents_2  \\\n",
       "0               1.0            1            0             0             0   \n",
       "1               1.0            1            1             1             0   \n",
       "2               1.0            1            1             0             0   \n",
       "3               1.0            1            1             0             0   \n",
       "4               1.0            1            0             0             0   \n",
       "..              ...          ...          ...           ...           ...   \n",
       "609             1.0            0            0             0             0   \n",
       "610             1.0            1            1             0             0   \n",
       "611             1.0            1            1             1             0   \n",
       "612             1.0            1            1             0             1   \n",
       "613             0.0            0            0             0             0   \n",
       "\n",
       "     Dependents_3+  Education_Not Graduate  Self_Employed_Yes  \\\n",
       "0                0                       0                  0   \n",
       "1                0                       0                  0   \n",
       "2                0                       0                  1   \n",
       "3                0                       1                  0   \n",
       "4                0                       0                  0   \n",
       "..             ...                     ...                ...   \n",
       "609              0                       0                  0   \n",
       "610              1                       0                  0   \n",
       "611              0                       0                  0   \n",
       "612              0                       0                  0   \n",
       "613              0                       0                  1   \n",
       "\n",
       "     Property_Area_Semiurban  Property_Area_Urban  Loan_Status_Y  \\\n",
       "0                          0                    1              1   \n",
       "1                          0                    0              0   \n",
       "2                          0                    1              1   \n",
       "3                          0                    1              1   \n",
       "4                          0                    1              1   \n",
       "..                       ...                  ...            ...   \n",
       "609                        0                    0              1   \n",
       "610                        0                    0              1   \n",
       "611                        0                    1              1   \n",
       "612                        0                    1              1   \n",
       "613                        1                    0              0   \n",
       "\n",
       "     ApplicantIncome  CoapplicantIncome  LoanAmount  Loan_Amount_Term  \n",
       "0               5849                0.0       128.0             360.0  \n",
       "1               4583             1508.0       128.0             360.0  \n",
       "2               3000                0.0        66.0             360.0  \n",
       "3               2583             2358.0       120.0             360.0  \n",
       "4               6000                0.0       141.0             360.0  \n",
       "..               ...                ...         ...               ...  \n",
       "609             2900                0.0        71.0             360.0  \n",
       "610             4106                0.0        40.0             180.0  \n",
       "611             8072              240.0       253.0             360.0  \n",
       "612             7583                0.0       187.0             360.0  \n",
       "613             4583                0.0       133.0             360.0  \n",
       "\n",
       "[614 rows x 15 columns]"
      ]
     },
     "execution_count": 50,
     "metadata": {},
     "output_type": "execute_result"
    }
   ],
   "source": [
    "df_encoded=pd.concat([df_cat,df_num], axis=1)\n",
    "df_encoded"
   ]
  },
  {
   "cell_type": "code",
   "execution_count": 51,
   "id": "4ee18a57",
   "metadata": {
    "execution": {
     "iopub.execute_input": "2023-07-13T12:19:50.336303Z",
     "iopub.status.busy": "2023-07-13T12:19:50.335859Z",
     "iopub.status.idle": "2023-07-13T12:19:50.345741Z",
     "shell.execute_reply": "2023-07-13T12:19:50.344650Z"
    },
    "papermill": {
     "duration": 0.053208,
     "end_time": "2023-07-13T12:19:50.348174",
     "exception": false,
     "start_time": "2023-07-13T12:19:50.294966",
     "status": "completed"
    },
    "tags": []
   },
   "outputs": [
    {
     "data": {
      "text/plain": [
       "0      1\n",
       "1      0\n",
       "2      1\n",
       "3      1\n",
       "4      1\n",
       "      ..\n",
       "609    1\n",
       "610    1\n",
       "611    1\n",
       "612    1\n",
       "613    0\n",
       "Name: Loan_Status_Y, Length: 614, dtype: uint8"
      ]
     },
     "execution_count": 51,
     "metadata": {},
     "output_type": "execute_result"
    }
   ],
   "source": [
    "y=df_encoded['Loan_Status_Y']\n",
    "y"
   ]
  },
  {
   "cell_type": "code",
   "execution_count": 52,
   "id": "b343175f",
   "metadata": {
    "execution": {
     "iopub.execute_input": "2023-07-13T12:19:50.430616Z",
     "iopub.status.busy": "2023-07-13T12:19:50.430115Z",
     "iopub.status.idle": "2023-07-13T12:19:50.459244Z",
     "shell.execute_reply": "2023-07-13T12:19:50.458262Z"
    },
    "papermill": {
     "duration": 0.074303,
     "end_time": "2023-07-13T12:19:50.461954",
     "exception": false,
     "start_time": "2023-07-13T12:19:50.387651",
     "status": "completed"
    },
    "tags": []
   },
   "outputs": [
    {
     "data": {
      "text/html": [
       "<div>\n",
       "<style scoped>\n",
       "    .dataframe tbody tr th:only-of-type {\n",
       "        vertical-align: middle;\n",
       "    }\n",
       "\n",
       "    .dataframe tbody tr th {\n",
       "        vertical-align: top;\n",
       "    }\n",
       "\n",
       "    .dataframe thead th {\n",
       "        text-align: right;\n",
       "    }\n",
       "</style>\n",
       "<table border=\"1\" class=\"dataframe\">\n",
       "  <thead>\n",
       "    <tr style=\"text-align: right;\">\n",
       "      <th></th>\n",
       "      <th>Credit_History</th>\n",
       "      <th>Gender_Male</th>\n",
       "      <th>Married_Yes</th>\n",
       "      <th>Dependents_1</th>\n",
       "      <th>Dependents_2</th>\n",
       "      <th>Dependents_3+</th>\n",
       "      <th>Education_Not Graduate</th>\n",
       "      <th>Self_Employed_Yes</th>\n",
       "      <th>Property_Area_Semiurban</th>\n",
       "      <th>Property_Area_Urban</th>\n",
       "      <th>ApplicantIncome</th>\n",
       "      <th>CoapplicantIncome</th>\n",
       "      <th>LoanAmount</th>\n",
       "      <th>Loan_Amount_Term</th>\n",
       "    </tr>\n",
       "  </thead>\n",
       "  <tbody>\n",
       "    <tr>\n",
       "      <th>0</th>\n",
       "      <td>1.0</td>\n",
       "      <td>1</td>\n",
       "      <td>0</td>\n",
       "      <td>0</td>\n",
       "      <td>0</td>\n",
       "      <td>0</td>\n",
       "      <td>0</td>\n",
       "      <td>0</td>\n",
       "      <td>0</td>\n",
       "      <td>1</td>\n",
       "      <td>5849</td>\n",
       "      <td>0.0</td>\n",
       "      <td>128.0</td>\n",
       "      <td>360.0</td>\n",
       "    </tr>\n",
       "    <tr>\n",
       "      <th>1</th>\n",
       "      <td>1.0</td>\n",
       "      <td>1</td>\n",
       "      <td>1</td>\n",
       "      <td>1</td>\n",
       "      <td>0</td>\n",
       "      <td>0</td>\n",
       "      <td>0</td>\n",
       "      <td>0</td>\n",
       "      <td>0</td>\n",
       "      <td>0</td>\n",
       "      <td>4583</td>\n",
       "      <td>1508.0</td>\n",
       "      <td>128.0</td>\n",
       "      <td>360.0</td>\n",
       "    </tr>\n",
       "    <tr>\n",
       "      <th>2</th>\n",
       "      <td>1.0</td>\n",
       "      <td>1</td>\n",
       "      <td>1</td>\n",
       "      <td>0</td>\n",
       "      <td>0</td>\n",
       "      <td>0</td>\n",
       "      <td>0</td>\n",
       "      <td>1</td>\n",
       "      <td>0</td>\n",
       "      <td>1</td>\n",
       "      <td>3000</td>\n",
       "      <td>0.0</td>\n",
       "      <td>66.0</td>\n",
       "      <td>360.0</td>\n",
       "    </tr>\n",
       "    <tr>\n",
       "      <th>3</th>\n",
       "      <td>1.0</td>\n",
       "      <td>1</td>\n",
       "      <td>1</td>\n",
       "      <td>0</td>\n",
       "      <td>0</td>\n",
       "      <td>0</td>\n",
       "      <td>1</td>\n",
       "      <td>0</td>\n",
       "      <td>0</td>\n",
       "      <td>1</td>\n",
       "      <td>2583</td>\n",
       "      <td>2358.0</td>\n",
       "      <td>120.0</td>\n",
       "      <td>360.0</td>\n",
       "    </tr>\n",
       "    <tr>\n",
       "      <th>4</th>\n",
       "      <td>1.0</td>\n",
       "      <td>1</td>\n",
       "      <td>0</td>\n",
       "      <td>0</td>\n",
       "      <td>0</td>\n",
       "      <td>0</td>\n",
       "      <td>0</td>\n",
       "      <td>0</td>\n",
       "      <td>0</td>\n",
       "      <td>1</td>\n",
       "      <td>6000</td>\n",
       "      <td>0.0</td>\n",
       "      <td>141.0</td>\n",
       "      <td>360.0</td>\n",
       "    </tr>\n",
       "    <tr>\n",
       "      <th>...</th>\n",
       "      <td>...</td>\n",
       "      <td>...</td>\n",
       "      <td>...</td>\n",
       "      <td>...</td>\n",
       "      <td>...</td>\n",
       "      <td>...</td>\n",
       "      <td>...</td>\n",
       "      <td>...</td>\n",
       "      <td>...</td>\n",
       "      <td>...</td>\n",
       "      <td>...</td>\n",
       "      <td>...</td>\n",
       "      <td>...</td>\n",
       "      <td>...</td>\n",
       "    </tr>\n",
       "    <tr>\n",
       "      <th>609</th>\n",
       "      <td>1.0</td>\n",
       "      <td>0</td>\n",
       "      <td>0</td>\n",
       "      <td>0</td>\n",
       "      <td>0</td>\n",
       "      <td>0</td>\n",
       "      <td>0</td>\n",
       "      <td>0</td>\n",
       "      <td>0</td>\n",
       "      <td>0</td>\n",
       "      <td>2900</td>\n",
       "      <td>0.0</td>\n",
       "      <td>71.0</td>\n",
       "      <td>360.0</td>\n",
       "    </tr>\n",
       "    <tr>\n",
       "      <th>610</th>\n",
       "      <td>1.0</td>\n",
       "      <td>1</td>\n",
       "      <td>1</td>\n",
       "      <td>0</td>\n",
       "      <td>0</td>\n",
       "      <td>1</td>\n",
       "      <td>0</td>\n",
       "      <td>0</td>\n",
       "      <td>0</td>\n",
       "      <td>0</td>\n",
       "      <td>4106</td>\n",
       "      <td>0.0</td>\n",
       "      <td>40.0</td>\n",
       "      <td>180.0</td>\n",
       "    </tr>\n",
       "    <tr>\n",
       "      <th>611</th>\n",
       "      <td>1.0</td>\n",
       "      <td>1</td>\n",
       "      <td>1</td>\n",
       "      <td>1</td>\n",
       "      <td>0</td>\n",
       "      <td>0</td>\n",
       "      <td>0</td>\n",
       "      <td>0</td>\n",
       "      <td>0</td>\n",
       "      <td>1</td>\n",
       "      <td>8072</td>\n",
       "      <td>240.0</td>\n",
       "      <td>253.0</td>\n",
       "      <td>360.0</td>\n",
       "    </tr>\n",
       "    <tr>\n",
       "      <th>612</th>\n",
       "      <td>1.0</td>\n",
       "      <td>1</td>\n",
       "      <td>1</td>\n",
       "      <td>0</td>\n",
       "      <td>1</td>\n",
       "      <td>0</td>\n",
       "      <td>0</td>\n",
       "      <td>0</td>\n",
       "      <td>0</td>\n",
       "      <td>1</td>\n",
       "      <td>7583</td>\n",
       "      <td>0.0</td>\n",
       "      <td>187.0</td>\n",
       "      <td>360.0</td>\n",
       "    </tr>\n",
       "    <tr>\n",
       "      <th>613</th>\n",
       "      <td>0.0</td>\n",
       "      <td>0</td>\n",
       "      <td>0</td>\n",
       "      <td>0</td>\n",
       "      <td>0</td>\n",
       "      <td>0</td>\n",
       "      <td>0</td>\n",
       "      <td>1</td>\n",
       "      <td>1</td>\n",
       "      <td>0</td>\n",
       "      <td>4583</td>\n",
       "      <td>0.0</td>\n",
       "      <td>133.0</td>\n",
       "      <td>360.0</td>\n",
       "    </tr>\n",
       "  </tbody>\n",
       "</table>\n",
       "<p>614 rows × 14 columns</p>\n",
       "</div>"
      ],
      "text/plain": [
       "     Credit_History  Gender_Male  Married_Yes  Dependents_1  Dependents_2  \\\n",
       "0               1.0            1            0             0             0   \n",
       "1               1.0            1            1             1             0   \n",
       "2               1.0            1            1             0             0   \n",
       "3               1.0            1            1             0             0   \n",
       "4               1.0            1            0             0             0   \n",
       "..              ...          ...          ...           ...           ...   \n",
       "609             1.0            0            0             0             0   \n",
       "610             1.0            1            1             0             0   \n",
       "611             1.0            1            1             1             0   \n",
       "612             1.0            1            1             0             1   \n",
       "613             0.0            0            0             0             0   \n",
       "\n",
       "     Dependents_3+  Education_Not Graduate  Self_Employed_Yes  \\\n",
       "0                0                       0                  0   \n",
       "1                0                       0                  0   \n",
       "2                0                       0                  1   \n",
       "3                0                       1                  0   \n",
       "4                0                       0                  0   \n",
       "..             ...                     ...                ...   \n",
       "609              0                       0                  0   \n",
       "610              1                       0                  0   \n",
       "611              0                       0                  0   \n",
       "612              0                       0                  0   \n",
       "613              0                       0                  1   \n",
       "\n",
       "     Property_Area_Semiurban  Property_Area_Urban  ApplicantIncome  \\\n",
       "0                          0                    1             5849   \n",
       "1                          0                    0             4583   \n",
       "2                          0                    1             3000   \n",
       "3                          0                    1             2583   \n",
       "4                          0                    1             6000   \n",
       "..                       ...                  ...              ...   \n",
       "609                        0                    0             2900   \n",
       "610                        0                    0             4106   \n",
       "611                        0                    1             8072   \n",
       "612                        0                    1             7583   \n",
       "613                        1                    0             4583   \n",
       "\n",
       "     CoapplicantIncome  LoanAmount  Loan_Amount_Term  \n",
       "0                  0.0       128.0             360.0  \n",
       "1               1508.0       128.0             360.0  \n",
       "2                  0.0        66.0             360.0  \n",
       "3               2358.0       120.0             360.0  \n",
       "4                  0.0       141.0             360.0  \n",
       "..                 ...         ...               ...  \n",
       "609                0.0        71.0             360.0  \n",
       "610                0.0        40.0             180.0  \n",
       "611              240.0       253.0             360.0  \n",
       "612                0.0       187.0             360.0  \n",
       "613                0.0       133.0             360.0  \n",
       "\n",
       "[614 rows x 14 columns]"
      ]
     },
     "execution_count": 52,
     "metadata": {},
     "output_type": "execute_result"
    }
   ],
   "source": [
    "X=df_encoded.drop('Loan_Status_Y', axis=1)\n",
    "X"
   ]
  },
  {
   "cell_type": "code",
   "execution_count": 53,
   "id": "2e7a0dec",
   "metadata": {
    "execution": {
     "iopub.execute_input": "2023-07-13T12:19:50.547354Z",
     "iopub.status.busy": "2023-07-13T12:19:50.546963Z",
     "iopub.status.idle": "2023-07-13T12:19:50.556344Z",
     "shell.execute_reply": "2023-07-13T12:19:50.554908Z"
    },
    "papermill": {
     "duration": 0.054766,
     "end_time": "2023-07-13T12:19:50.558854",
     "exception": false,
     "start_time": "2023-07-13T12:19:50.504088",
     "status": "completed"
    },
    "tags": []
   },
   "outputs": [],
   "source": [
    "# spécifier la partie test et la partie train\n",
    "\n",
    "x_train,x_test,y_train,y_test=train_test_split(X,y, test_size=0.2,random_state=6)"
   ]
  },
  {
   "cell_type": "code",
   "execution_count": 54,
   "id": "dd1f2406",
   "metadata": {
    "execution": {
     "iopub.execute_input": "2023-07-13T12:19:50.644047Z",
     "iopub.status.busy": "2023-07-13T12:19:50.643569Z",
     "iopub.status.idle": "2023-07-13T12:19:50.690274Z",
     "shell.execute_reply": "2023-07-13T12:19:50.689028Z"
    },
    "papermill": {
     "duration": 0.093177,
     "end_time": "2023-07-13T12:19:50.693379",
     "exception": false,
     "start_time": "2023-07-13T12:19:50.600202",
     "status": "completed"
    },
    "tags": []
   },
   "outputs": [
    {
     "data": {
      "text/html": [
       "<style>#sk-container-id-1 {color: black;background-color: white;}#sk-container-id-1 pre{padding: 0;}#sk-container-id-1 div.sk-toggleable {background-color: white;}#sk-container-id-1 label.sk-toggleable__label {cursor: pointer;display: block;width: 100%;margin-bottom: 0;padding: 0.3em;box-sizing: border-box;text-align: center;}#sk-container-id-1 label.sk-toggleable__label-arrow:before {content: \"▸\";float: left;margin-right: 0.25em;color: #696969;}#sk-container-id-1 label.sk-toggleable__label-arrow:hover:before {color: black;}#sk-container-id-1 div.sk-estimator:hover label.sk-toggleable__label-arrow:before {color: black;}#sk-container-id-1 div.sk-toggleable__content {max-height: 0;max-width: 0;overflow: hidden;text-align: left;background-color: #f0f8ff;}#sk-container-id-1 div.sk-toggleable__content pre {margin: 0.2em;color: black;border-radius: 0.25em;background-color: #f0f8ff;}#sk-container-id-1 input.sk-toggleable__control:checked~div.sk-toggleable__content {max-height: 200px;max-width: 100%;overflow: auto;}#sk-container-id-1 input.sk-toggleable__control:checked~label.sk-toggleable__label-arrow:before {content: \"▾\";}#sk-container-id-1 div.sk-estimator input.sk-toggleable__control:checked~label.sk-toggleable__label {background-color: #d4ebff;}#sk-container-id-1 div.sk-label input.sk-toggleable__control:checked~label.sk-toggleable__label {background-color: #d4ebff;}#sk-container-id-1 input.sk-hidden--visually {border: 0;clip: rect(1px 1px 1px 1px);clip: rect(1px, 1px, 1px, 1px);height: 1px;margin: -1px;overflow: hidden;padding: 0;position: absolute;width: 1px;}#sk-container-id-1 div.sk-estimator {font-family: monospace;background-color: #f0f8ff;border: 1px dotted black;border-radius: 0.25em;box-sizing: border-box;margin-bottom: 0.5em;}#sk-container-id-1 div.sk-estimator:hover {background-color: #d4ebff;}#sk-container-id-1 div.sk-parallel-item::after {content: \"\";width: 100%;border-bottom: 1px solid gray;flex-grow: 1;}#sk-container-id-1 div.sk-label:hover label.sk-toggleable__label {background-color: #d4ebff;}#sk-container-id-1 div.sk-serial::before {content: \"\";position: absolute;border-left: 1px solid gray;box-sizing: border-box;top: 0;bottom: 0;left: 50%;z-index: 0;}#sk-container-id-1 div.sk-serial {display: flex;flex-direction: column;align-items: center;background-color: white;padding-right: 0.2em;padding-left: 0.2em;position: relative;}#sk-container-id-1 div.sk-item {position: relative;z-index: 1;}#sk-container-id-1 div.sk-parallel {display: flex;align-items: stretch;justify-content: center;background-color: white;position: relative;}#sk-container-id-1 div.sk-item::before, #sk-container-id-1 div.sk-parallel-item::before {content: \"\";position: absolute;border-left: 1px solid gray;box-sizing: border-box;top: 0;bottom: 0;left: 50%;z-index: -1;}#sk-container-id-1 div.sk-parallel-item {display: flex;flex-direction: column;z-index: 1;position: relative;background-color: white;}#sk-container-id-1 div.sk-parallel-item:first-child::after {align-self: flex-end;width: 50%;}#sk-container-id-1 div.sk-parallel-item:last-child::after {align-self: flex-start;width: 50%;}#sk-container-id-1 div.sk-parallel-item:only-child::after {width: 0;}#sk-container-id-1 div.sk-dashed-wrapped {border: 1px dashed gray;margin: 0 0.4em 0.5em 0.4em;box-sizing: border-box;padding-bottom: 0.4em;background-color: white;}#sk-container-id-1 div.sk-label label {font-family: monospace;font-weight: bold;display: inline-block;line-height: 1.2em;}#sk-container-id-1 div.sk-label-container {text-align: center;}#sk-container-id-1 div.sk-container {/* jupyter's `normalize.less` sets `[hidden] { display: none; }` but bootstrap.min.css set `[hidden] { display: none !important; }` so we also need the `!important` here to be able to override the default hidden behavior on the sphinx rendered scikit-learn.org. See: https://github.com/scikit-learn/scikit-learn/issues/21755 */display: inline-block !important;position: relative;}#sk-container-id-1 div.sk-text-repr-fallback {display: none;}</style><div id=\"sk-container-id-1\" class=\"sk-top-container\"><div class=\"sk-text-repr-fallback\"><pre>LogisticRegression()</pre><b>In a Jupyter environment, please rerun this cell to show the HTML representation or trust the notebook. <br />On GitHub, the HTML representation is unable to render, please try loading this page with nbviewer.org.</b></div><div class=\"sk-container\" hidden><div class=\"sk-item\"><div class=\"sk-estimator sk-toggleable\"><input class=\"sk-toggleable__control sk-hidden--visually\" id=\"sk-estimator-id-1\" type=\"checkbox\" checked><label for=\"sk-estimator-id-1\" class=\"sk-toggleable__label sk-toggleable__label-arrow\">LogisticRegression</label><div class=\"sk-toggleable__content\"><pre>LogisticRegression()</pre></div></div></div></div></div>"
      ],
      "text/plain": [
       "LogisticRegression()"
      ]
     },
     "execution_count": 54,
     "metadata": {},
     "output_type": "execute_result"
    }
   ],
   "source": [
    "# instancier le modèle\n",
    "\n",
    "clf=LogisticRegression()\n",
    "\n",
    "# entraîner le modèle\n",
    "\n",
    "clf.fit(x_train, y_train)"
   ]
  },
  {
   "cell_type": "code",
   "execution_count": 55,
   "id": "10eb51fe",
   "metadata": {
    "execution": {
     "iopub.execute_input": "2023-07-13T12:19:50.782925Z",
     "iopub.status.busy": "2023-07-13T12:19:50.781389Z",
     "iopub.status.idle": "2023-07-13T12:19:50.792795Z",
     "shell.execute_reply": "2023-07-13T12:19:50.791920Z"
    },
    "papermill": {
     "duration": 0.057793,
     "end_time": "2023-07-13T12:19:50.794999",
     "exception": false,
     "start_time": "2023-07-13T12:19:50.737206",
     "status": "completed"
    },
    "tags": []
   },
   "outputs": [
    {
     "data": {
      "text/plain": [
       "array([0, 1, 1, 1, 1, 1, 0, 1, 1, 1, 1, 1, 1, 1, 1, 1, 1, 1, 1, 1, 1, 1,\n",
       "       1, 1, 1, 1, 1, 1, 1, 1, 1, 1, 1, 1, 1, 1, 1, 1, 1, 0, 1, 1, 1, 0,\n",
       "       0, 1, 1, 0, 1, 1, 1, 1, 1, 1, 0, 1, 0, 1, 1, 1, 1, 1, 1, 1, 1, 1,\n",
       "       1, 1, 1, 1, 0, 1, 1, 1, 1, 1, 1, 1, 1, 1, 1, 0, 1, 1, 0, 1, 1, 1,\n",
       "       1, 0, 1, 1, 1, 1, 1, 1, 1, 1, 1, 1, 1, 1, 1, 1, 1, 1, 1, 0, 1, 1,\n",
       "       0, 0, 1, 1, 1, 1, 1, 1, 1, 1, 1, 1, 1], dtype=uint8)"
      ]
     },
     "execution_count": 55,
     "metadata": {},
     "output_type": "execute_result"
    }
   ],
   "source": [
    "# Tester le modèle\n",
    "pred=clf.predict(x_test)\n",
    "pred"
   ]
  },
  {
   "cell_type": "code",
   "execution_count": 56,
   "id": "956c364c",
   "metadata": {
    "execution": {
     "iopub.execute_input": "2023-07-13T12:19:50.886212Z",
     "iopub.status.busy": "2023-07-13T12:19:50.885581Z",
     "iopub.status.idle": "2023-07-13T12:19:50.893295Z",
     "shell.execute_reply": "2023-07-13T12:19:50.892017Z"
    },
    "papermill": {
     "duration": 0.056902,
     "end_time": "2023-07-13T12:19:50.895994",
     "exception": false,
     "start_time": "2023-07-13T12:19:50.839092",
     "status": "completed"
    },
    "tags": []
   },
   "outputs": [
    {
     "data": {
      "text/plain": [
       "387    0\n",
       "266    1\n",
       "292    1\n",
       "392    1\n",
       "332    1\n",
       "      ..\n",
       "309    1\n",
       "511    1\n",
       "98     1\n",
       "238    1\n",
       "462    1\n",
       "Name: Loan_Status_Y, Length: 123, dtype: uint8"
      ]
     },
     "execution_count": 56,
     "metadata": {},
     "output_type": "execute_result"
    }
   ],
   "source": [
    "y_test"
   ]
  },
  {
   "cell_type": "code",
   "execution_count": 57,
   "id": "1f260e37",
   "metadata": {
    "execution": {
     "iopub.execute_input": "2023-07-13T12:19:50.992711Z",
     "iopub.status.busy": "2023-07-13T12:19:50.991286Z",
     "iopub.status.idle": "2023-07-13T12:19:51.005771Z",
     "shell.execute_reply": "2023-07-13T12:19:51.004451Z"
    },
    "papermill": {
     "duration": 0.064999,
     "end_time": "2023-07-13T12:19:51.008531",
     "exception": false,
     "start_time": "2023-07-13T12:19:50.943532",
     "status": "completed"
    },
    "tags": []
   },
   "outputs": [
    {
     "data": {
      "text/plain": [
       "array([[0.91171015, 0.08828985],\n",
       "       [0.11396972, 0.88603028],\n",
       "       [0.18169396, 0.81830604],\n",
       "       [0.21363004, 0.78636996],\n",
       "       [0.22786897, 0.77213103],\n",
       "       [0.18724369, 0.81275631],\n",
       "       [0.926466  , 0.073534  ],\n",
       "       [0.12522863, 0.87477137],\n",
       "       [0.11477607, 0.88522393],\n",
       "       [0.12971711, 0.87028289],\n",
       "       [0.19892166, 0.80107834],\n",
       "       [0.35190067, 0.64809933],\n",
       "       [0.15029302, 0.84970698],\n",
       "       [0.04670302, 0.95329698],\n",
       "       [0.22591443, 0.77408557],\n",
       "       [0.15221685, 0.84778315],\n",
       "       [0.15836759, 0.84163241],\n",
       "       [0.22976329, 0.77023671],\n",
       "       [0.13656561, 0.86343439],\n",
       "       [0.18709073, 0.81290927],\n",
       "       [0.1454006 , 0.8545994 ],\n",
       "       [0.3226353 , 0.6773647 ],\n",
       "       [0.15485752, 0.84514248],\n",
       "       [0.26769788, 0.73230212],\n",
       "       [0.1889516 , 0.8110484 ],\n",
       "       [0.22301012, 0.77698988],\n",
       "       [0.29023997, 0.70976003],\n",
       "       [0.14992815, 0.85007185],\n",
       "       [0.27415732, 0.72584268],\n",
       "       [0.3470879 , 0.6529121 ],\n",
       "       [0.04575608, 0.95424392],\n",
       "       [0.07797932, 0.92202068],\n",
       "       [0.24593291, 0.75406709],\n",
       "       [0.299738  , 0.700262  ],\n",
       "       [0.1928137 , 0.8071863 ],\n",
       "       [0.3579478 , 0.6420522 ],\n",
       "       [0.24754606, 0.75245394],\n",
       "       [0.14983924, 0.85016076],\n",
       "       [0.13977899, 0.86022101],\n",
       "       [0.95673666, 0.04326334],\n",
       "       [0.15808564, 0.84191436],\n",
       "       [0.24000298, 0.75999702],\n",
       "       [0.25741059, 0.74258941],\n",
       "       [0.86378111, 0.13621889],\n",
       "       [0.77915971, 0.22084029],\n",
       "       [0.20096287, 0.79903713],\n",
       "       [0.25653875, 0.74346125],\n",
       "       [0.84268063, 0.15731937],\n",
       "       [0.14546534, 0.85453466],\n",
       "       [0.25028087, 0.74971913],\n",
       "       [0.19234582, 0.80765418],\n",
       "       [0.11388247, 0.88611753],\n",
       "       [0.15929691, 0.84070309],\n",
       "       [0.24049978, 0.75950022],\n",
       "       [0.94267023, 0.05732977],\n",
       "       [0.23284202, 0.76715798],\n",
       "       [0.84066986, 0.15933014],\n",
       "       [0.33693082, 0.66306918],\n",
       "       [0.25988155, 0.74011845],\n",
       "       [0.2405262 , 0.7594738 ],\n",
       "       [0.17116004, 0.82883996],\n",
       "       [0.08146531, 0.91853469],\n",
       "       [0.2852676 , 0.7147324 ],\n",
       "       [0.10797655, 0.89202345],\n",
       "       [0.19770621, 0.80229379],\n",
       "       [0.31552049, 0.68447951],\n",
       "       [0.33958699, 0.66041301],\n",
       "       [0.39944952, 0.60055048],\n",
       "       [0.42165827, 0.57834173],\n",
       "       [0.23691959, 0.76308041],\n",
       "       [0.86089248, 0.13910752],\n",
       "       [0.18616475, 0.81383525],\n",
       "       [0.34124897, 0.65875103],\n",
       "       [0.23438357, 0.76561643],\n",
       "       [0.34839074, 0.65160926],\n",
       "       [0.23743979, 0.76256021],\n",
       "       [0.2334008 , 0.7665992 ],\n",
       "       [0.29234359, 0.70765641],\n",
       "       [0.1647423 , 0.8352577 ],\n",
       "       [0.29995227, 0.70004773],\n",
       "       [0.20079152, 0.79920848],\n",
       "       [0.89498104, 0.10501896],\n",
       "       [0.33929127, 0.66070873],\n",
       "       [0.37735537, 0.62264463],\n",
       "       [0.80918612, 0.19081388],\n",
       "       [0.07883091, 0.92116909],\n",
       "       [0.20995933, 0.79004067],\n",
       "       [0.12683543, 0.87316457],\n",
       "       [0.20331653, 0.79668347],\n",
       "       [0.84687078, 0.15312922],\n",
       "       [0.32122786, 0.67877214],\n",
       "       [0.27348399, 0.72651601],\n",
       "       [0.15295494, 0.84704506],\n",
       "       [0.1453923 , 0.8546077 ],\n",
       "       [0.2587655 , 0.7412345 ],\n",
       "       [0.36639133, 0.63360867],\n",
       "       [0.15379197, 0.84620803],\n",
       "       [0.10806389, 0.89193611],\n",
       "       [0.30344772, 0.69655228],\n",
       "       [0.16209661, 0.83790339],\n",
       "       [0.25893717, 0.74106283],\n",
       "       [0.14784489, 0.85215511],\n",
       "       [0.18134938, 0.81865062],\n",
       "       [0.16489647, 0.83510353],\n",
       "       [0.17563473, 0.82436527],\n",
       "       [0.31050382, 0.68949618],\n",
       "       [0.37838919, 0.62161081],\n",
       "       [0.69133605, 0.30866395],\n",
       "       [0.13358635, 0.86641365],\n",
       "       [0.20377765, 0.79622235],\n",
       "       [0.87101014, 0.12898986],\n",
       "       [0.86479366, 0.13520634],\n",
       "       [0.47184097, 0.52815903],\n",
       "       [0.24027293, 0.75972707],\n",
       "       [0.30313156, 0.69686844],\n",
       "       [0.22888313, 0.77111687],\n",
       "       [0.28878445, 0.71121555],\n",
       "       [0.15667312, 0.84332688],\n",
       "       [0.2757755 , 0.7242245 ],\n",
       "       [0.20578439, 0.79421561],\n",
       "       [0.08097076, 0.91902924],\n",
       "       [0.33132539, 0.66867461],\n",
       "       [0.23665085, 0.76334915]])"
      ]
     },
     "execution_count": 57,
     "metadata": {},
     "output_type": "execute_result"
    }
   ],
   "source": [
    "# Pour voir la probabilité précise\n",
    "proba=clf.predict_proba(x_test)\n",
    "proba"
   ]
  },
  {
   "cell_type": "code",
   "execution_count": 58,
   "id": "0c52bc27",
   "metadata": {
    "execution": {
     "iopub.execute_input": "2023-07-13T12:19:51.104625Z",
     "iopub.status.busy": "2023-07-13T12:19:51.104131Z",
     "iopub.status.idle": "2023-07-13T12:19:51.113989Z",
     "shell.execute_reply": "2023-07-13T12:19:51.112756Z"
    },
    "papermill": {
     "duration": 0.06203,
     "end_time": "2023-07-13T12:19:51.116995",
     "exception": false,
     "start_time": "2023-07-13T12:19:51.054965",
     "status": "completed"
    },
    "tags": []
   },
   "outputs": [
    {
     "data": {
      "text/plain": [
       "0.8373983739837398"
      ]
     },
     "execution_count": 58,
     "metadata": {},
     "output_type": "execute_result"
    }
   ],
   "source": [
    "accuracy_score(y_test, pred)"
   ]
  },
  {
   "cell_type": "code",
   "execution_count": 59,
   "id": "016a8847",
   "metadata": {
    "execution": {
     "iopub.execute_input": "2023-07-13T12:19:51.203675Z",
     "iopub.status.busy": "2023-07-13T12:19:51.203222Z",
     "iopub.status.idle": "2023-07-13T12:19:51.211204Z",
     "shell.execute_reply": "2023-07-13T12:19:51.209814Z"
    },
    "papermill": {
     "duration": 0.054171,
     "end_time": "2023-07-13T12:19:51.213735",
     "exception": false,
     "start_time": "2023-07-13T12:19:51.159564",
     "status": "completed"
    },
    "tags": []
   },
   "outputs": [
    {
     "data": {
      "text/plain": [
       "Index(['Credit_History', 'Gender_Male', 'Married_Yes', 'Dependents_1',\n",
       "       'Dependents_2', 'Dependents_3+', 'Education_Not Graduate',\n",
       "       'Self_Employed_Yes', 'Property_Area_Semiurban', 'Property_Area_Urban',\n",
       "       'ApplicantIncome', 'CoapplicantIncome', 'LoanAmount',\n",
       "       'Loan_Amount_Term'],\n",
       "      dtype='object')"
      ]
     },
     "execution_count": 59,
     "metadata": {},
     "output_type": "execute_result"
    }
   ],
   "source": [
    "X.columns"
   ]
  },
  {
   "cell_type": "code",
   "execution_count": 60,
   "id": "1b075f70",
   "metadata": {
    "execution": {
     "iopub.execute_input": "2023-07-13T12:19:51.299632Z",
     "iopub.status.busy": "2023-07-13T12:19:51.299222Z",
     "iopub.status.idle": "2023-07-13T12:19:51.311449Z",
     "shell.execute_reply": "2023-07-13T12:19:51.310061Z"
    },
    "papermill": {
     "duration": 0.058126,
     "end_time": "2023-07-13T12:19:51.314059",
     "exception": false,
     "start_time": "2023-07-13T12:19:51.255933",
     "status": "completed"
    },
    "tags": []
   },
   "outputs": [
    {
     "name": "stderr",
     "output_type": "stream",
     "text": [
      "/opt/conda/lib/python3.10/site-packages/sklearn/base.py:439: UserWarning: X does not have valid feature names, but LogisticRegression was fitted with feature names\n",
      "  warnings.warn(\n"
     ]
    },
    {
     "data": {
      "text/plain": [
       "array([1], dtype=uint8)"
      ]
     },
     "execution_count": 60,
     "metadata": {},
     "output_type": "execute_result"
    }
   ],
   "source": [
    "# Faire une prévision\n",
    "profil_test=[[1,1,1,0,0,0,1,0,1,0,100,0,400,360]]\n",
    "clf.predict(profil_test)"
   ]
  },
  {
   "cell_type": "code",
   "execution_count": 61,
   "id": "e7676e5b",
   "metadata": {
    "execution": {
     "iopub.execute_input": "2023-07-13T12:19:51.401318Z",
     "iopub.status.busy": "2023-07-13T12:19:51.400940Z",
     "iopub.status.idle": "2023-07-13T12:19:51.406732Z",
     "shell.execute_reply": "2023-07-13T12:19:51.405469Z"
    },
    "papermill": {
     "duration": 0.0521,
     "end_time": "2023-07-13T12:19:51.408969",
     "exception": false,
     "start_time": "2023-07-13T12:19:51.356869",
     "status": "completed"
    },
    "tags": []
   },
   "outputs": [],
   "source": [
    "# Enregistrer le modèle avec la commande pickle\n",
    "\n",
    "pickle.dump(clf,open('/kaggle/working/prevision_credit.pkl','wb'))\n"
   ]
  },
  {
   "cell_type": "code",
   "execution_count": 62,
   "id": "5a743abe",
   "metadata": {
    "execution": {
     "iopub.execute_input": "2023-07-13T12:19:51.502154Z",
     "iopub.status.busy": "2023-07-13T12:19:51.500525Z",
     "iopub.status.idle": "2023-07-13T12:19:51.508864Z",
     "shell.execute_reply": "2023-07-13T12:19:51.507363Z"
    },
    "papermill": {
     "duration": 0.057582,
     "end_time": "2023-07-13T12:19:51.511612",
     "exception": false,
     "start_time": "2023-07-13T12:19:51.454030",
     "status": "completed"
    },
    "tags": []
   },
   "outputs": [
    {
     "name": "stdout",
     "output_type": "stream",
     "text": [
      "prevision_credit.pkl\n",
      "__notebook__.ipynb\n"
     ]
    }
   ],
   "source": [
    "#vérifions l'enregistrement du fichier\n",
    "\n",
    "directory = '/kaggle/working'\n",
    "\n",
    "# Liste des fichiers dans le répertoire\n",
    "files = os.listdir(directory)\n",
    "\n",
    "# Affichage des fichiers\n",
    "for file in files:\n",
    "    print(file)"
   ]
  }
 ],
 "metadata": {
  "kernelspec": {
   "display_name": "Python 3",
   "language": "python",
   "name": "python3"
  },
  "language_info": {
   "codemirror_mode": {
    "name": "ipython",
    "version": 3
   },
   "file_extension": ".py",
   "mimetype": "text/x-python",
   "name": "python",
   "nbconvert_exporter": "python",
   "pygments_lexer": "ipython3",
   "version": "3.10.12"
  },
  "papermill": {
   "default_parameters": {},
   "duration": 29.622412,
   "end_time": "2023-07-13T12:19:53.084123",
   "environment_variables": {},
   "exception": null,
   "input_path": "__notebook__.ipynb",
   "output_path": "__notebook__.ipynb",
   "parameters": {},
   "start_time": "2023-07-13T12:19:23.461711",
   "version": "2.4.0"
  }
 },
 "nbformat": 4,
 "nbformat_minor": 5
}
